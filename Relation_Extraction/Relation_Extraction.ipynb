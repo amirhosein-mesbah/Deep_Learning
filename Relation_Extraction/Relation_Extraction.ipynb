{
  "cells": [
    {
      "cell_type": "markdown",
      "metadata": {
        "id": "p54cjP707Q4m"
      },
      "source": [
        "## Downloading Dataset\n",
        "- Download zip file with gdown library\n",
        "- Unzip dataset"
      ]
    },
    {
      "cell_type": "code",
      "execution_count": null,
      "metadata": {
        "colab": {
          "base_uri": "https://localhost:8080/"
        },
        "id": "yP_4ACLx8C2Q",
        "outputId": "e785d8c5-e01b-45db-fe06-6088125f11b8"
      },
      "outputs": [
        {
          "name": "stdout",
          "output_type": "stream",
          "text": [
            "Mounted at /content/gdrive\n"
          ]
        }
      ],
      "source": [
        "from google.colab import drive\n",
        "drive.mount('/content/gdrive')"
      ]
    },
    {
      "cell_type": "code",
      "execution_count": 1,
      "metadata": {
        "colab": {
          "base_uri": "https://localhost:8080/"
        },
        "id": "vZZptRQC8lJZ",
        "outputId": "8d8ff64c-a2b4-4300-e773-d0c87de096b6"
      },
      "outputs": [
        {
          "name": "stdout",
          "output_type": "stream",
          "text": [
            "Downloading...\n",
            "From: https://drive.google.com/u/0/uc?id=0B_jQiLugGTAkMDQ5ZjZiMTUtMzQ1Yy00YWNmLWJlZDYtOWY1ZDMwY2U4YjFk\n",
            "To: /content/SemEval2010_task8_all_data.zip\n",
            "100% 1.96M/1.96M [00:00<00:00, 5.39MB/s]\n",
            "Archive:  /content/SemEval2010_task8_all_data.zip\n",
            "   creating: SemEval2010_task8_all_data/\n",
            "   creating: SemEval2010_task8_all_data/SemEval2010_task8_scorer-v1.2/\n",
            "  inflating: SemEval2010_task8_all_data/SemEval2010_task8_scorer-v1.2/answer_key1.txt  \n",
            "  inflating: SemEval2010_task8_all_data/SemEval2010_task8_scorer-v1.2/answer_key2.txt  \n",
            "  inflating: SemEval2010_task8_all_data/SemEval2010_task8_scorer-v1.2/answer_key3.txt  \n",
            "  inflating: SemEval2010_task8_all_data/SemEval2010_task8_scorer-v1.2/answer_key5.txt  \n",
            "  inflating: SemEval2010_task8_all_data/SemEval2010_task8_scorer-v1.2/proposed_answer1.txt  \n",
            "  inflating: SemEval2010_task8_all_data/SemEval2010_task8_scorer-v1.2/proposed_answer2.txt  \n",
            "  inflating: SemEval2010_task8_all_data/SemEval2010_task8_scorer-v1.2/proposed_answer3.txt  \n",
            "  inflating: SemEval2010_task8_all_data/SemEval2010_task8_scorer-v1.2/proposed_answer4.txt  \n",
            "  inflating: SemEval2010_task8_all_data/SemEval2010_task8_scorer-v1.2/proposed_answer5.txt  \n",
            "  inflating: SemEval2010_task8_all_data/SemEval2010_task8_scorer-v1.2/README.txt  \n",
            "  inflating: SemEval2010_task8_all_data/SemEval2010_task8_scorer-v1.2/result_scores1.txt  \n",
            "  inflating: SemEval2010_task8_all_data/SemEval2010_task8_scorer-v1.2/result_scores2.txt  \n",
            "  inflating: SemEval2010_task8_all_data/SemEval2010_task8_scorer-v1.2/result_scores3.txt  \n",
            "  inflating: SemEval2010_task8_all_data/SemEval2010_task8_scorer-v1.2/result_scores5.txt  \n",
            "  inflating: SemEval2010_task8_all_data/SemEval2010_task8_scorer-v1.2/semeval2010_task8_format_checker.pl  \n",
            "  inflating: SemEval2010_task8_all_data/SemEval2010_task8_scorer-v1.2/semeval2010_task8_scorer-v1.2.pl  \n",
            "   creating: SemEval2010_task8_all_data/SemEval2010_task8_testing/\n",
            "  inflating: SemEval2010_task8_all_data/SemEval2010_task8_testing/README.txt  \n",
            "  inflating: SemEval2010_task8_all_data/SemEval2010_task8_testing/TEST_FILE.txt  \n",
            "   creating: SemEval2010_task8_all_data/SemEval2010_task8_testing_keys/\n",
            "  inflating: SemEval2010_task8_all_data/SemEval2010_task8_testing_keys/TEST_FILE_CLEAN.TXT  \n",
            "  inflating: SemEval2010_task8_all_data/SemEval2010_task8_testing_keys/TEST_FILE_FULL.TXT  \n",
            "  inflating: SemEval2010_task8_all_data/SemEval2010_task8_testing_keys/TEST_FILE_KEY.TXT  \n",
            "   creating: SemEval2010_task8_all_data/SemEval2010_task8_training/\n",
            "  inflating: SemEval2010_task8_all_data/SemEval2010_task8_training/README.txt  \n",
            "  inflating: SemEval2010_task8_all_data/SemEval2010_task8_training/Task8_Guidelines.pdf  \n",
            "  inflating: SemEval2010_task8_all_data/SemEval2010_task8_training/Task8_Relation1.pdf  \n",
            "  inflating: SemEval2010_task8_all_data/SemEval2010_task8_training/Task8_Relation2.pdf  \n",
            "  inflating: SemEval2010_task8_all_data/SemEval2010_task8_training/Task8_Relation3.pdf  \n",
            "  inflating: SemEval2010_task8_all_data/SemEval2010_task8_training/Task8_Relation4.pdf  \n",
            "  inflating: SemEval2010_task8_all_data/SemEval2010_task8_training/Task8_Relation5.pdf  \n",
            "  inflating: SemEval2010_task8_all_data/SemEval2010_task8_training/Task8_Relation6.pdf  \n",
            "  inflating: SemEval2010_task8_all_data/SemEval2010_task8_training/Task8_Relation7.pdf  \n",
            "  inflating: SemEval2010_task8_all_data/SemEval2010_task8_training/Task8_Relation8.pdf  \n",
            "  inflating: SemEval2010_task8_all_data/SemEval2010_task8_training/Task8_Relation9.pdf  \n",
            "  inflating: SemEval2010_task8_all_data/SemEval2010_task8_training/TRAIN_DISTRIB.TXT  \n",
            "  inflating: SemEval2010_task8_all_data/SemEval2010_task8_training/TRAIN_FILE.TXT  \n",
            "  inflating: SemEval2010_task8_all_data/SemEval2010_task8_training/TRAIN_TEST_DISTRIB.TXT  \n",
            "  inflating: SemEval2010_task8_all_data/SEMEVAL_TASK8_FULL_RELEASE_README.txt  \n"
          ]
        }
      ],
      "source": [
        "import gdown\n",
        "! gdown https://drive.google.com/u/0/uc?id=0B_jQiLugGTAkMDQ5ZjZiMTUtMzQ1Yy00YWNmLWJlZDYtOWY1ZDMwY2U4YjFk&export=download\n",
        "!unzip /content/SemEval2010_task8_all_data.zip\n"
      ]
    },
    {
      "cell_type": "markdown",
      "metadata": {
        "id": "hSvWU36gHxYL"
      },
      "source": [
        "## Preprocessing\n",
        "- reading data\n",
        "- encode labels\n",
        "- tokenize & extract entities\n",
        "- extract index of entities (for part C)\n",
        "- replace entities with sentences\n",
        "- create vocabulary\n",
        "- vectorize sentennces\n"
      ]
    },
    {
      "cell_type": "markdown",
      "metadata": {
        "id": "dBqL7tdu8GDH"
      },
      "source": [
        "### reading data: \n",
        "read text file (sentences and relations)"
      ]
    },
    {
      "cell_type": "code",
      "execution_count": 2,
      "metadata": {
        "id": "5B0K9Rnc-HQm"
      },
      "outputs": [],
      "source": [
        "def read_txt(path):\n",
        "    with open(path, 'r') as rf:\n",
        "        lines = rf.readlines()\n",
        "        li = 0\n",
        "        sentences = []\n",
        "        relations = []\n",
        "        for i in range(0,len(lines), 4):\n",
        "            sentences.append(lines[i])\n",
        "            relations.append(lines[i+1])\n",
        "    print(len(sentences), len(relations))\n",
        "    return sentences, relations"
      ]
    },
    {
      "cell_type": "code",
      "execution_count": 3,
      "metadata": {
        "colab": {
          "base_uri": "https://localhost:8080/"
        },
        "id": "UJW8_vCmBpx1",
        "outputId": "87a3adb9-cf6c-4f0c-f289-78a9cac410e9"
      },
      "outputs": [
        {
          "name": "stdout",
          "output_type": "stream",
          "text": [
            "8000 8000\n",
            "2717 2717\n"
          ]
        }
      ],
      "source": [
        "train_sentences, train_relations = read_txt('/content/SemEval2010_task8_all_data/SemEval2010_task8_training/TRAIN_FILE.TXT')\n",
        "test_sentences, test_relations = read_txt('/content/SemEval2010_task8_all_data/SemEval2010_task8_testing_keys/TEST_FILE_FULL.TXT')"
      ]
    },
    {
      "cell_type": "code",
      "execution_count": 4,
      "metadata": {
        "colab": {
          "base_uri": "https://localhost:8080/"
        },
        "id": "HCc77Pr18jgC",
        "outputId": "12c628ab-ae34-424c-d12d-d9ca5297bb72"
      },
      "outputs": [
        {
          "name": "stdout",
          "output_type": "stream",
          "text": [
            "['1\\t\"The system as described above has its greatest application in an arrayed <e1>configuration</e1> of antenna <e2>elements</e2>.\"\\n', '2\\t\"The <e1>child</e1> was carefully wrapped and bound into the <e2>cradle</e2> by means of a cord.\"\\n']\n",
            "['Component-Whole(e2,e1)\\n', 'Other\\n']\n"
          ]
        }
      ],
      "source": [
        "print(train_sentences[:2])\n",
        "print(train_relations[:2])"
      ]
    },
    {
      "cell_type": "markdown",
      "metadata": {
        "id": "2zAW1fBu_q5K"
      },
      "source": [
        "### Encode labels: \n",
        "first clean relations from additional characters like (e1,e2) and \\n for train and test data \n",
        "\n",
        "\n",
        "> for example: 'Component-Whole(e2,e1)\\n' &#8594;  'Component-Whole'\n",
        "\n",
        "\n",
        "\n",
        "\n"
      ]
    },
    {
      "cell_type": "code",
      "execution_count": 5,
      "metadata": {
        "id": "M_zPubE3D96z"
      },
      "outputs": [],
      "source": [
        "from nltk.tokenize import RegexpTokenizer #for tokenizer\n",
        "import re # for regex"
      ]
    },
    {
      "cell_type": "code",
      "execution_count": 6,
      "metadata": {
        "id": "MDU-OIlcCf3j"
      },
      "outputs": [],
      "source": [
        "for i in range(len(train_relations)):\n",
        "  if train_relations[i] == 'Other\\n':\n",
        "    train_relations[i] = train_relations[i][:-1]\n",
        "    continue\n",
        "  train_relations[i] = train_relations[i][:-8]\n",
        "for i in range(len(test_relations)):\n",
        "  if test_relations[i] == 'Other\\n':\n",
        "    test_relations[i] = test_relations[i][:-1]\n",
        "    continue\n",
        "  test_relations[i] = test_relations[i][:-8]"
      ]
    },
    {
      "cell_type": "code",
      "execution_count": 7,
      "metadata": {
        "colab": {
          "base_uri": "https://localhost:8080/"
        },
        "id": "qtcTQ8wbCgE2",
        "outputId": "25e71087-8119-4af4-e7c5-c383c3882093"
      },
      "outputs": [
        {
          "name": "stdout",
          "output_type": "stream",
          "text": [
            "8000 ['Component-Whole', 'Other', 'Instrument-Agency']\n",
            "2717 ['Message-Topic', 'Product-Producer', 'Instrument-Agency']\n",
            "10 ['Cause-Effect', 'Member-Collection', 'Content-Container', 'Entity-Origin', 'Entity-Destination', 'Component-Whole', 'Message-Topic', 'Instrument-Agency', 'Product-Producer', 'Other']\n"
          ]
        }
      ],
      "source": [
        "OTHER_LABEL = 'Other'   \n",
        "unique_set = set(test_relations + train_relations)\n",
        "unique_set.remove(OTHER_LABEL)\n",
        "unique_relations = list(unique_set)\n",
        "unique_relations.append(OTHER_LABEL)\n",
        "print(len(train_relations), train_relations[:3])\n",
        "print(len(test_relations), test_relations[:3])\n",
        "print(len(unique_relations), unique_relations)"
      ]
    },
    {
      "cell_type": "markdown",
      "metadata": {
        "id": "N2AZt-GGDRGn"
      },
      "source": [
        "encode relations into numbers"
      ]
    },
    {
      "cell_type": "code",
      "execution_count": 8,
      "metadata": {
        "id": "6qy3Ykv0F-a2"
      },
      "outputs": [],
      "source": [
        "rel2lb = {}\n",
        "lb2rel = {}\n",
        "for i,item in enumerate(unique_relations):\n",
        "    rel2lb[item] = i\n",
        "    lb2rel[i] = item\n",
        "train_labels = [rel2lb[item] for item in train_relations]\n",
        "test_labels = [rel2lb[item] for item in test_relations]\n"
      ]
    },
    {
      "cell_type": "code",
      "execution_count": 9,
      "metadata": {
        "colab": {
          "base_uri": "https://localhost:8080/"
        },
        "id": "Mtn27vjaDd9R",
        "outputId": "93fc479e-5726-41e7-c8d6-68412e9aa731"
      },
      "outputs": [
        {
          "name": "stdout",
          "output_type": "stream",
          "text": [
            "8000 2717\n",
            "[5, 9, 7]\n",
            "['Component-Whole', 'Other', 'Instrument-Agency']\n"
          ]
        }
      ],
      "source": [
        "print(len(train_labels), len(test_labels))\n",
        "print(train_labels[:3])\n",
        "print(train_relations[:3])"
      ]
    },
    {
      "cell_type": "markdown",
      "metadata": {
        "id": "gmHY_TszGVw4"
      },
      "source": [
        "### tokenize & extract entities:\n",
        "find entities between 2 special tags, extract entities and replace entities with special characters. at the end tokenize the remaining sentences."
      ]
    },
    {
      "cell_type": "code",
      "execution_count": 10,
      "metadata": {
        "id": "pWQfx-M2HO8_"
      },
      "outputs": [],
      "source": [
        "e1pt = re.compile('<e1>.*</e1>')\n",
        "e2pt = re.compile('<e2>.*</e2>')\n",
        "E1LABEL = ' E1LABEL '\n",
        "E2LABEL = ' E2LABEL '\n",
        "\n",
        "def process_sentence(sentence):\n",
        "    # regex replace\n",
        "    sentence = re.sub('\\d*\\t\\\"', \"\", sentence) # delete qutation marks and numbers and \\t from first of sentence\n",
        "    sentence = sentence[:-2]\n",
        "    e1 = e1pt.search(sentence) # find and replace first entity with ' E1LABEL '\n",
        "    sentence = re.sub(e1pt, E1LABEL, sentence)\n",
        "    e2 = e2pt.search(sentence) # find and replace second entity with ' E2LABEL '\n",
        "    sentence = re.sub(e2pt, E2LABEL, sentence) \n",
        "    sentence = re.sub(' \\d+', \"\", sentence) # delete numbers\n",
        "    # split word and filter punctuations\n",
        "    tokenizer = RegexpTokenizer(r'\\w+')\n",
        "    words = [token for token in tokenizer.tokenize(sentence)]\n",
        "    return sentence, (e1.group(0)[4:-5].split(),e2.group(0)[4:-5].split()), words\n",
        "\n",
        "def process_sentence_group(org_sentences):\n",
        "    entities = []\n",
        "    words_list = []\n",
        "    processed_sentences = []\n",
        "    for i in range(len(org_sentences)):\n",
        "        sentence = org_sentences[i]\n",
        "        sentence, entity, words =  process_sentence(sentence)\n",
        "        entities.append(entity)\n",
        "        words_list.append(words)\n",
        "        processed_sentences.append(sentence)\n",
        "        if (i%100 == 0):\n",
        "            print('\\rfinished {}'.format(i),flush=True, end='')\n",
        "    print('')\n",
        "    return processed_sentences, entities, words_list\n",
        "\n"
      ]
    },
    {
      "cell_type": "code",
      "execution_count": 11,
      "metadata": {
        "colab": {
          "base_uri": "https://localhost:8080/"
        },
        "id": "c0EGbiwkJeon",
        "outputId": "4edf6ad0-4ce0-4217-e440-e568d91a55a2"
      },
      "outputs": [
        {
          "name": "stdout",
          "output_type": "stream",
          "text": [
            "finished 7900\n",
            "finished 2700\n"
          ]
        }
      ],
      "source": [
        "train_processed, train_entities, train_words = process_sentence_group(train_sentences)\n",
        "test_processed, test_entities, test_words = process_sentence_group(test_sentences)"
      ]
    },
    {
      "cell_type": "code",
      "execution_count": 12,
      "metadata": {
        "colab": {
          "base_uri": "https://localhost:8080/"
        },
        "id": "r3v-nP5-IxUn",
        "outputId": "96affffc-eb1d-48ff-f12c-e7b92b499d9f"
      },
      "outputs": [
        {
          "name": "stdout",
          "output_type": "stream",
          "text": [
            "['The system as described above has its greatest application in an arrayed  E1LABEL  of antenna  E2LABEL .', 'The  E1LABEL  was carefully wrapped and bound into the  E2LABEL  by means of a cord.', 'The  E1LABEL  of a keygen uses a  E2LABEL  to look at the raw assembly code.']\n",
            "[(['configuration'], ['elements']), (['child'], ['cradle']), (['author'], ['disassembler'])]\n",
            "[['The', 'system', 'as', 'described', 'above', 'has', 'its', 'greatest', 'application', 'in', 'an', 'arrayed', 'E1LABEL', 'of', 'antenna', 'E2LABEL'], ['The', 'E1LABEL', 'was', 'carefully', 'wrapped', 'and', 'bound', 'into', 'the', 'E2LABEL', 'by', 'means', 'of', 'a', 'cord'], ['The', 'E1LABEL', 'of', 'a', 'keygen', 'uses', 'a', 'E2LABEL', 'to', 'look', 'at', 'the', 'raw', 'assembly', 'code']]\n"
          ]
        }
      ],
      "source": [
        "print(train_processed[:3])\n",
        "print(train_entities[:3])\n",
        "print(train_words[:3])"
      ]
    },
    {
      "cell_type": "markdown",
      "metadata": {
        "id": "ZjlFFL9GHUmH"
      },
      "source": [
        "### extract index of entities (for part C):\n",
        "extract index of entities from sentences and save them as a list"
      ]
    },
    {
      "cell_type": "code",
      "execution_count": 13,
      "metadata": {
        "id": "_8EnehFRKlBI"
      },
      "outputs": [],
      "source": [
        "def extract_indexs(org_words, entities):\n",
        "    word_idxs = []\n",
        "    count = 0\n",
        "    for i  in range(len(org_words)):\n",
        "        idx1 = []\n",
        "        idx2 = []\n",
        "        for j in range(len(org_words[i])):\n",
        "            if org_words[i][j] == 'E1LABEL':\n",
        "                idx1 = [item for item in range(j,j+len(entities[i][0]))]\n",
        "            if org_words[i][j] == 'E2LABEL':\n",
        "                idx2 = [item for item in range(j,j+len(entities[i][1]))]\n",
        "        word_idxs.append([idx1, idx2])\n",
        "    return  word_idxs\n",
        "\n",
        "train_idxs = extract_indexs(train_words, train_entities)\n",
        "test_idxs = extract_indexs(test_words,test_entities)"
      ]
    },
    {
      "cell_type": "code",
      "execution_count": 14,
      "metadata": {
        "colab": {
          "base_uri": "https://localhost:8080/"
        },
        "id": "gCP5o9ChAq9I",
        "outputId": "3780b89f-5538-4811-ed77-e5ec45f16e10"
      },
      "outputs": [
        {
          "data": {
            "text/plain": [
              "[[[12], [15]], [[1], [9]], [[1], [7]]]"
            ]
          },
          "execution_count": 14,
          "metadata": {
            "tags": []
          },
          "output_type": "execute_result"
        }
      ],
      "source": [
        "train_idxs[:3]"
      ]
    },
    {
      "cell_type": "markdown",
      "metadata": {
        "id": "s594UKnRIV1y"
      },
      "source": [
        "### replace entities with sentences:\n",
        "replace entitis with special characters of each entity "
      ]
    },
    {
      "cell_type": "code",
      "execution_count": 15,
      "metadata": {
        "colab": {
          "base_uri": "https://localhost:8080/"
        },
        "id": "8IsONdC_M7Qg",
        "outputId": "8ff9e3fc-f682-40b5-f51a-77cffd2fc9f8"
      },
      "outputs": [
        {
          "name": "stdout",
          "output_type": "stream",
          "text": [
            "finished 7900\n",
            "finished 2700\n",
            "[(['configuration'], ['elements']), (['child'], ['cradle']), (['author'], ['disassembler'])]\n",
            "[['The', 'system', 'as', 'described', 'above', 'has', 'its', 'greatest', 'application', 'in', 'an', 'arrayed', 'configuration', 'of', 'antenna', 'elements'], ['The', 'child', 'was', 'carefully', 'wrapped', 'and', 'bound', 'into', 'the', 'cradle', 'by', 'means', 'of', 'a', 'cord'], ['The', 'author', 'of', 'a', 'keygen', 'uses', 'a', 'disassembler', 'to', 'look', 'at', 'the', 'raw', 'assembly', 'code']]\n"
          ]
        }
      ],
      "source": [
        "def replace_word(org_list, org_word_list):\n",
        "    new_list = []\n",
        "    for i in range(len(org_list)):\n",
        "        e1 = org_list[i][0]\n",
        "        e2 = org_list[i][1]\n",
        "        new_list.append((e1,e2))\n",
        "        for j in range(len(org_word_list[i])):\n",
        "            if org_word_list[i][j] == 'E1LABEL':\n",
        "                org_word_list[i][j] = e1\n",
        "            elif org_word_list[i][j] == 'E2LABEL':\n",
        "                org_word_list[i][j] = e2\n",
        "            else:\n",
        "              org_word_list[i][j] = [org_word_list[i][j]]\n",
        "        if i%100 == 0:\n",
        "            print('\\rfinished {}'.format(i), flush=True, end='')\n",
        "    print('')\n",
        "    words = [[j for i in item for j in i] for item in org_word_list]\n",
        "    return new_list,words\n",
        "\n",
        "train_entities,train_words = replace_word(train_entities, train_words)\n",
        "test_entities,test_words = replace_word(test_entities, test_words)\n",
        "print(train_entities[:3])\n",
        "print(train_words[:3])"
      ]
    },
    {
      "cell_type": "markdown",
      "metadata": {
        "id": "TBDnDzezJ2Ph"
      },
      "source": [
        "### create vocabulary"
      ]
    },
    {
      "cell_type": "code",
      "execution_count": 16,
      "metadata": {
        "id": "HrBpte4aK9uy"
      },
      "outputs": [],
      "source": [
        "unique_words = list(set([w for item in train_words+test_words for w in item]))\n",
        "unique_words.append('<unknown_word>')\n",
        "unique_words.append('<padding_word>')\n",
        "unknown_idx = len(unique_words) - 2\n",
        "padding_idx = len(unique_words) - 1"
      ]
    },
    {
      "cell_type": "code",
      "execution_count": 17,
      "metadata": {
        "colab": {
          "base_uri": "https://localhost:8080/"
        },
        "id": "UG56bHxRK9nf",
        "outputId": "127c578e-fb84-4d1d-8045-076267b7ce91"
      },
      "outputs": [
        {
          "name": "stdout",
          "output_type": "stream",
          "text": [
            "24372 24372\n"
          ]
        }
      ],
      "source": [
        "word2idx = {}\n",
        "idx2word = {}\n",
        "for i,w in enumerate(unique_words):\n",
        "    word2idx[w] = i\n",
        "    idx2word[i] = w\n",
        "print(len(word2idx), len(idx2word))"
      ]
    },
    {
      "cell_type": "markdown",
      "metadata": {
        "id": "WQXK8Z_yKGDJ"
      },
      "source": [
        "### vectorize sentennces"
      ]
    },
    {
      "cell_type": "code",
      "execution_count": 18,
      "metadata": {
        "id": "j9w7PfGgK9Wc"
      },
      "outputs": [],
      "source": [
        "train_words_vec = [[word2idx[item] if item in word2idx else unknown_idx for item in i] for i in train_words]"
      ]
    },
    {
      "cell_type": "code",
      "execution_count": 19,
      "metadata": {
        "id": "tqzH9mCewunR"
      },
      "outputs": [],
      "source": [
        "test_words_vec = [[word2idx[item] if item in word2idx else unknown_idx for item in i] for i in test_words]"
      ]
    },
    {
      "cell_type": "markdown",
      "metadata": {
        "id": "HCCy7j_sKm4g"
      },
      "source": [
        "## create Realtion Extraction model (part A,B and C)\n",
        "- build a data loader for train, validation and test\n",
        "- define a random or Glove embedding weights\n",
        "- create bi-LSTM model\n",
        "- train and validate network for some epochs\n",
        "- test and evaluate model"
      ]
    },
    {
      "cell_type": "code",
      "execution_count": 20,
      "metadata": {
        "id": "YmWgYWFILea2"
      },
      "outputs": [],
      "source": [
        "#imports \n",
        "import os\n",
        "from collections import Counter\n",
        "import torch\n",
        "from torch.nn.utils.rnn import pad_sequence\n",
        "from torch.utils.data import DataLoader,Dataset\n",
        "import torchvision.transforms as T\n",
        "from nltk.tokenize import RegexpTokenizer #for tokenizer\n",
        "from PIL import Image\n",
        "import matplotlib.pyplot as plt\n",
        "import matplotlib.image as mpimg\n",
        "import numpy as np"
      ]
    },
    {
      "cell_type": "code",
      "execution_count": 21,
      "metadata": {
        "id": "4DMAq8a5Jr6E"
      },
      "outputs": [],
      "source": [
        "import torch.nn as nn\n",
        "import torch.optim as optim\n",
        "from sklearn.metrics import f1_score\n",
        "from sklearn.metrics import precision_score\n",
        "from sklearn.metrics import recall_score\n",
        "from sklearn.metrics import accuracy_score"
      ]
    },
    {
      "cell_type": "markdown",
      "metadata": {
        "id": "lgAD3YydMng8"
      },
      "source": [
        "## part A)"
      ]
    },
    {
      "cell_type": "markdown",
      "metadata": {
        "id": "8gImRuTqLeH3"
      },
      "source": [
        "### build a data loader for train, validation and test\n",
        "first create train and test dataset, then split train dataset into train and validation sets and finally create a dataloader for each of them.\n",
        "> we choose 7110 sentance of train dataset because of balance labels in this number of sentences. \n"
      ]
    },
    {
      "cell_type": "code",
      "execution_count": 22,
      "metadata": {
        "id": "4R8CZlPTw7IG"
      },
      "outputs": [],
      "source": [
        "train_data = [[torch.tensor(train_words_vec[i]), torch.tensor([train_labels[i]])] for i in range(len(train_labels))][:7110]"
      ]
    },
    {
      "cell_type": "code",
      "execution_count": 23,
      "metadata": {
        "id": "-tk76XB0MivF"
      },
      "outputs": [],
      "source": [
        "test_data = [[torch.tensor(test_words_vec[i]), torch.tensor([test_labels[i]])] for i in range(len(test_labels))]"
      ]
    },
    {
      "cell_type": "code",
      "execution_count": 24,
      "metadata": {
        "id": "XbtUyAnVWPd-"
      },
      "outputs": [],
      "source": [
        "train_set, val_set = torch.utils.data.random_split(train_data, [6600, 510])"
      ]
    },
    {
      "cell_type": "code",
      "execution_count": 25,
      "metadata": {
        "id": "1ogkgkgtzOiX"
      },
      "outputs": [],
      "source": [
        "def pad_collate(batch):\n",
        "  (xx, yy) = zip(*batch)\n",
        "  x_lens = [len(x) for x in xx]\n",
        "  global padding_idx\n",
        "  xx_pad = pad_sequence(xx, batch_first=True, padding_value=padding_idx)\n",
        "\n",
        "  return xx_pad, yy"
      ]
    },
    {
      "cell_type": "code",
      "execution_count": 26,
      "metadata": {
        "id": "0AgiYsCYxHqS"
      },
      "outputs": [],
      "source": [
        "data_loader = DataLoader(\n",
        "    dataset=train_set,\n",
        "    batch_size=128,\n",
        "    shuffle=True,\n",
        "    collate_fn=pad_collate\n",
        ")"
      ]
    },
    {
      "cell_type": "code",
      "execution_count": 27,
      "metadata": {
        "id": "UqbWb_NCNERc"
      },
      "outputs": [],
      "source": [
        "validation_loader = DataLoader(\n",
        "    dataset=val_set,\n",
        "    batch_size=128,\n",
        "    shuffle=True,\n",
        "    collate_fn=pad_collate\n",
        ")"
      ]
    },
    {
      "cell_type": "code",
      "execution_count": 28,
      "metadata": {
        "id": "Ym7Oey06NFzn"
      },
      "outputs": [],
      "source": [
        "test_loader = DataLoader(\n",
        "    dataset=test_data,\n",
        "    batch_size=128,\n",
        "    shuffle=True,\n",
        "    collate_fn=pad_collate\n",
        ")"
      ]
    },
    {
      "cell_type": "markdown",
      "metadata": {
        "id": "FOqs3b-hM0US"
      },
      "source": [
        "### define a random  embedding weights"
      ]
    },
    {
      "cell_type": "code",
      "execution_count": 29,
      "metadata": {
        "id": "hGuU0mYvNvLs"
      },
      "outputs": [],
      "source": [
        "embedding_matrixs = np.random.randn(len(word2idx),100)"
      ]
    },
    {
      "cell_type": "markdown",
      "metadata": {
        "id": "N8ZA1KqBM90i"
      },
      "source": [
        "### create bi-LSTM model"
      ]
    },
    {
      "cell_type": "code",
      "execution_count": 36,
      "metadata": {
        "id": "ybHZt5SENpfJ"
      },
      "outputs": [],
      "source": [
        "class BiLSTM(nn.Module):\n",
        "    \n",
        "    def __init__(self, embeding_size, vocab_size,num_layer, hidden_size, num_classes, embedding_weights, grad_embedding=True):\n",
        "        super(BiLSTM, self).__init__()\n",
        "        self.hidden_size = hidden_size\n",
        "        drp = 0.1\n",
        "        n_classes = num_classes\n",
        "        self.embedding = nn.Embedding(vocab_size, embeding_size)\n",
        "        self.embedding.weight = nn.Parameter(torch.tensor(embedding_weights, dtype=torch.float32).to(device)) # input_size = embed_size,num_layers = 2, hidden_size = self.hidden_size, bidirectional=True, batch_first=True\n",
        "        self.embedding.weight.requires_grad = grad_embedding\n",
        "        self.lstm = nn.LSTM(input_size=embed_size,num_layers = num_layer, hidden_size= self.hidden_size, bidirectional=True, batch_first=True)\n",
        "        self.linear = nn.Linear(self.hidden_size*2 , 10)\n",
        "        self.softmax = nn.LogSoftmax(dim=1)\n",
        "        \n",
        "\n",
        "\n",
        "    def forward(self, x):\n",
        "        h_embedding = self.embedding(x)\n",
        "        packed_output, (hidden, cell) = self.lstm(h_embedding)\n",
        "        cat = torch.cat((hidden[-2, :, :], hidden[-1, :, :]), dim=1)\n",
        "        conc = self.softmax(self.linear(cat))\n",
        "        return conc"
      ]
    },
    {
      "cell_type": "markdown",
      "metadata": {
        "id": "tH2Ctr-kNDmq"
      },
      "source": [
        "### train and validate network for some epochs"
      ]
    },
    {
      "cell_type": "code",
      "execution_count": 37,
      "metadata": {
        "colab": {
          "base_uri": "https://localhost:8080/"
        },
        "id": "RZIdVeu8Jw7c",
        "outputId": "f9e7ea8a-00eb-44c7-8425-a7b47a111c89"
      },
      "outputs": [
        {
          "data": {
            "text/plain": [
              "device(type='cuda')"
            ]
          },
          "execution_count": 37,
          "metadata": {
            "tags": []
          },
          "output_type": "execute_result"
        }
      ],
      "source": [
        "device = torch.device(\"cuda\" if torch.cuda.is_available() else \"cpu\")\n",
        "device"
      ]
    },
    {
      "cell_type": "code",
      "execution_count": 42,
      "metadata": {
        "id": "v67ifijVJwxM"
      },
      "outputs": [],
      "source": [
        "embed_size = embedding_matrixs.shape[1]\n",
        "hidden_size=150\n",
        "num_layers=2\n",
        "vocab_size = embedding_matrixs.shape[0]\n"
      ]
    },
    {
      "cell_type": "code",
      "execution_count": 49,
      "metadata": {
        "id": "_vEFV6OoJwnM"
      },
      "outputs": [],
      "source": [
        "model = BiLSTM(embed_size, vocab_size, num_layers,hidden_size, 10, embedding_matrixs) # embeding_size, vocab_size,num_layer, hidden_size, num_classes, embedding_weights"
      ]
    },
    {
      "cell_type": "code",
      "execution_count": 50,
      "metadata": {
        "colab": {
          "base_uri": "https://localhost:8080/"
        },
        "id": "bVxm0IjuoU8H",
        "outputId": "fa677cb0-a53f-4171-ddc1-7bc7c890ffee"
      },
      "outputs": [
        {
          "data": {
            "text/plain": [
              "BiLSTM(\n",
              "  (embedding): Embedding(24372, 100)\n",
              "  (lstm): LSTM(100, 150, num_layers=2, batch_first=True, bidirectional=True)\n",
              "  (linear): Linear(in_features=300, out_features=10, bias=True)\n",
              "  (softmax): LogSoftmax(dim=1)\n",
              ")"
            ]
          },
          "execution_count": 50,
          "metadata": {
            "tags": []
          },
          "output_type": "execute_result"
        }
      ],
      "source": [
        "model.to(device)"
      ]
    },
    {
      "cell_type": "code",
      "execution_count": 51,
      "metadata": {
        "id": "Qw3SUxNyJwdi"
      },
      "outputs": [],
      "source": [
        "criterion = nn.NLLLoss(ignore_index=padding_idx)\n",
        "optimizer = optim.Adam(model.parameters(), lr=0.0005, weight_decay=0.0005)"
      ]
    },
    {
      "cell_type": "code",
      "execution_count": 52,
      "metadata": {
        "colab": {
          "base_uri": "https://localhost:8080/"
        },
        "id": "1lR1wedmK6b2",
        "outputId": "9ccadbe9-aa1b-4c6e-fd44-a8bde84d96e7"
      },
      "outputs": [
        {
          "name": "stdout",
          "output_type": "stream",
          "text": [
            "epoch: 0 -  train loss: 2.258029369207529 - validation loss: 2.1950308680534363 - train acc = 0.16010616987179488 - validation acc = 0.20380704365079366\n",
            "epoch: 1 -  train loss: 2.081626151616757 - validation loss: 1.9658942222595215 - train acc = 0.24884815705128205 - validation acc = 0.3038194444444444\n",
            "epoch: 2 -  train loss: 1.87059581050506 - validation loss: 1.8512234091758728 - train acc = 0.3382077991452992 - validation acc = 0.3038504464285714\n",
            "epoch: 3 -  train loss: 1.724199489905284 - validation loss: 1.7770909667015076 - train acc = 0.38463207799145305 - validation acc = 0.3842385912698413\n",
            "epoch: 4 -  train loss: 1.60325799538539 - validation loss: 1.6951248347759247 - train acc = 0.433326655982906 - validation acc = 0.4056919642857143\n",
            "epoch: 5 -  train loss: 1.5126860325153058 - validation loss: 1.6618730425834656 - train acc = 0.4668135683760684 - validation acc = 0.40987723214285715\n",
            "epoch: 6 -  train loss: 1.4453264818741725 - validation loss: 1.6079755425453186 - train acc = 0.48913261217948717 - validation acc = 0.42153397817460314\n",
            "epoch: 7 -  train loss: 1.3755783759630644 - validation loss: 1.596057653427124 - train acc = 0.5112847222222222 - validation acc = 0.42358010912698413\n",
            "epoch: 8 -  train loss: 1.3171089704220111 - validation loss: 1.5864935517311096 - train acc = 0.5338541666666667 - validation acc = 0.44497147817460314\n",
            "epoch: 9 -  train loss: 1.2581887932924123 - validation loss: 1.6020334661006927 - train acc = 0.5618155715811965 - validation acc = 0.4193638392857143\n",
            "epoch: 10 -  train loss: 1.1841818759074578 - validation loss: 1.5524709224700928 - train acc = 0.591796875 - validation acc = 0.44494047619047616\n",
            "epoch: 11 -  train loss: 1.1300197690725327 - validation loss: 1.5660496652126312 - train acc = 0.6080562232905983 - validation acc = 0.44698660714285715\n",
            "epoch: 12 -  train loss: 1.062295261483926 - validation loss: 1.5854140222072601 - train acc = 0.6371861645299146 - validation acc = 0.45092385912698413\n",
            "epoch: 13 -  train loss: 1.0075685473588796 - validation loss: 1.6180528104305267 - train acc = 0.6531784188034189 - validation acc = 0.4592013888888889\n",
            "epoch: 14 -  train loss: 0.9560533314943314 - validation loss: 1.6400743424892426 - train acc = 0.673160389957265 - validation acc = 0.466765873015873\n",
            "epoch: 15 -  train loss: 0.8938176700702081 - validation loss: 1.6634125709533691 - train acc = 0.694027110042735 - validation acc = 0.43939112103174605\n",
            "epoch: 16 -  train loss: 0.8465104412574035 - validation loss: 1.7015312314033508 - train acc = 0.7119057158119658 - validation acc = 0.4450024801587302\n",
            "epoch: 17 -  train loss: 0.7601858515005845 - validation loss: 1.7484352588653564 - train acc = 0.750484107905983 - validation acc = 0.43312872023809523\n",
            "epoch: 18 -  train loss: 0.7062387300225405 - validation loss: 1.770310491323471 - train acc = 0.7691973824786325 - validation acc = 0.435515873015873\n",
            "epoch: 19 -  train loss: 0.6707290582931958 - validation loss: 1.786998987197876 - train acc = 0.7815671741452992 - validation acc = 0.44912574404761907\n",
            "epoch: 20 -  train loss: 0.6106869521049353 - validation loss: 1.8919963240623474 - train acc = 0.801315438034188 - validation acc = 0.44515749007936506\n",
            "epoch: 21 -  train loss: 0.5545766622974322 - validation loss: 1.912921518087387 - train acc = 0.8204794337606838 - validation acc = 0.4451884920634921\n",
            "epoch: 22 -  train loss: 0.5381595400663522 - validation loss: 2.036216288805008 - train acc = 0.8252537393162392 - validation acc = 0.42171999007936506\n",
            "epoch: 23 -  train loss: 0.485555404653916 - validation loss: 2.0455529987812042 - train acc = 0.8452690972222222 - validation acc = 0.43136160714285715\n",
            "epoch: 24 -  train loss: 0.4505891054868698 - validation loss: 2.039722889661789 - train acc = 0.858223157051282 - validation acc = 0.4352368551587302\n",
            "training Finished in 26.601357221603394 seconds\n"
          ]
        }
      ],
      "source": [
        "import time\n",
        "start_time = time.time()\n",
        "num_epochs = 25\n",
        "train_loss = []\n",
        "validation_loss = []\n",
        "train_acc=[]\n",
        "val_acc = []\n",
        "for epoch in range(num_epochs):\n",
        "  running_loss = 0\n",
        "  running_acc=0\n",
        "  #print_examples(model, device, dataset)\n",
        "  for idx, (sentence, label) in enumerate(iter(data_loader)):\n",
        "    sentence, label = sentence.to(device),torch.tensor(list(label)).to(device)\n",
        "    model.train()\n",
        "    optimizer.zero_grad()\n",
        "    # Feed forward\n",
        "    outputs = model(sentence)\n",
        "    # Calculate the batch loss.\n",
        "    pred = torch.argmax(outputs, dim=1)\n",
        "    running_acc += sum(pred==label).item() /len(label)\n",
        "    loss = criterion(outputs, label)\n",
        "    # Backward pass.\n",
        "    loss.backward()\n",
        "    # Update the parameters in the optimizer.\n",
        "    optimizer.step()   \n",
        "    running_loss += loss.item()\n",
        "  model.eval()\n",
        "  running_loss_valid = 0.0\n",
        "  running_acc_valid = 0.0\n",
        "  for jdx, (sentence, label) in enumerate(iter(validation_loader)):\n",
        "    sentence, label = sentence.to(device),torch.tensor(list(label)).to(device)\n",
        "    \n",
        "    # Feed forward\n",
        "    outputs = model(sentence)\n",
        "    \n",
        "    loss = criterion(outputs, label)\n",
        "      \n",
        "    running_loss_valid += loss.item()\n",
        "\n",
        "    pred = torch.argmax(outputs, dim=1)\n",
        "    \n",
        "    running_acc_valid += sum(pred==label).item()/len(label)\n",
        "\n",
        "\n",
        "  print(f'epoch: {epoch} -  train loss: {running_loss / (idx+1)} - validation loss: {running_loss_valid/(jdx+1)} - train acc = {running_acc/(idx+1)} - validation acc = {running_acc_valid/(jdx+1)}')\n",
        "  train_loss.append(running_loss / (idx+1))\n",
        "  validation_loss.append(running_loss_valid/(jdx+1))\n",
        "  train_acc.append(running_acc/(idx+1))\n",
        "  val_acc.append(running_acc_valid/(jdx+1))\n",
        "  torch.save(model.cpu().state_dict(), 'final_model.pth') # saving model\n",
        "  model.to(device)\n",
        "\n",
        "running_time = time.time()-start_time\n",
        "print(f'training Finished in {running_time} seconds')"
      ]
    },
    {
      "cell_type": "code",
      "execution_count": 53,
      "metadata": {
        "colab": {
          "base_uri": "https://localhost:8080/",
          "height": 265
        },
        "id": "B0yzU3ROK6Xi",
        "outputId": "a4d2b666-f83f-4330-84a6-78055dd33b49"
      },
      "outputs": [
        {
          "data": {
            "image/png": "[encoded data removed]",
            "text/plain": [
              "<Figure size 432x288 with 1 Axes>"
            ]
          },
          "metadata": {
            "needs_background": "light",
            "tags": []
          },
          "output_type": "display_data"
        }
      ],
      "source": [
        "plt.plot(train_acc)\n",
        "plt.plot(val_acc)\n",
        "plt.legend([\"train accuracy\", \"validation accuracy\"])\n",
        "plt.show()"
      ]
    },
    {
      "cell_type": "code",
      "execution_count": 54,
      "metadata": {
        "colab": {
          "base_uri": "https://localhost:8080/",
          "height": 265
        },
        "id": "5L15Et7sK6TU",
        "outputId": "3d1ab6ab-8da9-43e9-b00f-853acd0e5c55"
      },
      "outputs": [
        {
          "data": {
            "image/png": "[encoded data removed]",
            "text/plain": [
              "<Figure size 432x288 with 1 Axes>"
            ]
          },
          "metadata": {
            "needs_background": "light",
            "tags": []
          },
          "output_type": "display_data"
        }
      ],
      "source": [
        "plt.plot(train_loss)\n",
        "plt.plot(validation_loss)\n",
        "plt.legend([\"train loss\", \"validation loss\"])\n",
        "plt.show()"
      ]
    },
    {
      "cell_type": "markdown",
      "metadata": {
        "id": "3_bgK801NQrx"
      },
      "source": [
        "### test and evaluate model"
      ]
    },
    {
      "cell_type": "code",
      "execution_count": 55,
      "metadata": {
        "id": "KOiRgpf4K6Pf"
      },
      "outputs": [],
      "source": [
        "y_pred= []\n",
        "y_label=[]\n",
        "with torch.no_grad():\n",
        "  for jdx, (sentence, label) in enumerate(iter(test_loader)):\n",
        "    sentence, label = sentence.to(device),torch.tensor(list(label)).to(device)\n",
        "    # Feed forward\n",
        "    outputs = model(sentence)\n",
        "    pred = torch.argmax(outputs, dim=1)\n",
        "    for i in range(len(label)):\n",
        "      y_pred.append(pred[i].item())\n",
        "      y_label.append(label[i].item())\n"
      ]
    },
    {
      "cell_type": "code",
      "execution_count": 56,
      "metadata": {
        "colab": {
          "base_uri": "https://localhost:8080/"
        },
        "id": "uyXAtucHRZpj",
        "outputId": "6d8dc87a-5d61-4caa-9902-4a328a647e37"
      },
      "outputs": [
        {
          "name": "stdout",
          "output_type": "stream",
          "text": [
            "accuracy: 0.5012881854987118 \n",
            "\n",
            "precision:0.5147119826349587 \n",
            "\n",
            "recall: 0.5147119826349587 \n",
            "\n",
            "f1 score: 0.5016357706752271\n"
          ]
        }
      ],
      "source": [
        "print(f'''accuracy: {accuracy_score(y_label, y_pred, normalize=True)} \n",
        "\\nprecision:{precision_score(y_label, y_pred, average='macro')} \n",
        "\\nrecall: {precision_score(y_label, y_pred, average='macro')} \n",
        "\\nf1 score: {f1_score(y_label, y_pred, average='macro')}''')"
      ]
    },
    {
      "cell_type": "markdown",
      "metadata": {
        "id": "CL23jlDLQKUC"
      },
      "source": [
        "## part B)\n",
        "use dataloaders and model from part A  "
      ]
    },
    {
      "cell_type": "markdown",
      "metadata": {
        "id": "I79o17dygEPM"
      },
      "source": [
        "### define  Glove embedding weights"
      ]
    },
    {
      "cell_type": "code",
      "execution_count": 58,
      "metadata": {
        "colab": {
          "base_uri": "https://localhost:8080/"
        },
        "id": "iedTvmnUSyvl",
        "outputId": "d7404df2-ef8a-41b5-9dc1-9d4ce7dffb7e"
      },
      "outputs": [
        {
          "name": "stdout",
          "output_type": "stream",
          "text": [
            "Downloading...\n",
            "From: http://nlp.stanford.edu/data/glove.42B.300d.zip\n",
            "To: /content/glove.42B.300d.zip\n",
            "100% 1.88G/1.88G [05:55<00:00, 5.29MB/s]\n"
          ]
        }
      ],
      "source": [
        "! gdown http://nlp.stanford.edu/data/glove.42B.300d.zip"
      ]
    },
    {
      "cell_type": "code",
      "execution_count": 59,
      "metadata": {
        "colab": {
          "base_uri": "https://localhost:8080/"
        },
        "id": "QKAGKnbNK6K2",
        "outputId": "ef7f3b2f-db33-4dc5-8942-9d100881abaf"
      },
      "outputs": [
        {
          "name": "stdout",
          "output_type": "stream",
          "text": [
            "Archive:  /content/glove.42B.300d.zip\n",
            "  inflating: glove.42B.300d.txt      \n"
          ]
        }
      ],
      "source": [
        "! unzip /content/glove.42B.300d.zip"
      ]
    },
    {
      "cell_type": "code",
      "execution_count": 60,
      "metadata": {
        "id": "4rMV9Gb5K6HQ"
      },
      "outputs": [],
      "source": [
        "## FUNCTIONS TAKEN FROM https://www.kaggle.com/gmhost/gru-capsule\n",
        "import numpy as np\n",
        "def load_glove(word_index):\n",
        "    max_feature=27000\n",
        "    EMBEDDING_FILE = '/content/glove.42B.300d.txt'\n",
        "    def get_coefs(word,*arr): return word, np.asarray(arr, dtype='float32')[:300]\n",
        "    embeddings_index = dict(get_coefs(*o.split(\" \")) for o in open(EMBEDDING_FILE))\n",
        "    \n",
        "    all_embs = np.stack(embeddings_index.values())\n",
        "    emb_mean,emb_std = -0.005838499,0.48782197\n",
        "    embed_size = all_embs.shape[1]\n",
        "\n",
        "    nb_words = min(max_feature, len(word_index)+1)\n",
        "    embedding_matrix = np.random.normal(emb_mean, emb_std, (nb_words, embed_size))\n",
        "    for word, i in word_index.items():\n",
        "        if i >= max_feature: continue\n",
        "        embedding_vector = embeddings_index.get(word)\n",
        "        if embedding_vector is not None: \n",
        "            embedding_matrix[i] = embedding_vector\n",
        "        else:\n",
        "            embedding_vector = embeddings_index.get(word.capitalize())\n",
        "            if embedding_vector is not None: \n",
        "                embedding_matrix[i] = embedding_vector\n",
        "    return embedding_matrix"
      ]
    },
    {
      "cell_type": "code",
      "execution_count": 61,
      "metadata": {
        "colab": {
          "base_uri": "https://localhost:8080/"
        },
        "id": "0WH_5cS7K59q",
        "outputId": "d685937c-ea26-4ed9-df72-f87247668d01"
      },
      "outputs": [
        {
          "name": "stderr",
          "output_type": "stream",
          "text": [
            "/usr/local/lib/python3.7/dist-packages/IPython/core/interactiveshell.py:2882: FutureWarning: arrays to stack must be passed as a \"sequence\" type such as list or tuple. Support for non-sequence iterables such as generators is deprecated as of NumPy 1.16 and will raise an error in the future.\n",
            "  exec(code_obj, self.user_global_ns, self.user_ns)\n"
          ]
        }
      ],
      "source": [
        "embedding_matrix = load_glove(word2idx)"
      ]
    },
    {
      "cell_type": "markdown",
      "metadata": {
        "id": "iiYhSeungIaO"
      },
      "source": [
        "### train and validate network for some epochs"
      ]
    },
    {
      "cell_type": "code",
      "execution_count": 62,
      "metadata": {
        "id": "QBnDzXZDYBlk"
      },
      "outputs": [],
      "source": [
        "embed_size = embedding_matrix.shape[1]\n",
        "hidden_size=150\n",
        "num_layers=2\n",
        "vocab_size = embedding_matrix.shape[0]\n"
      ]
    },
    {
      "cell_type": "code",
      "execution_count": 63,
      "metadata": {
        "id": "hrYwyUZTWXRE"
      },
      "outputs": [],
      "source": [
        "Glove_model = BiLSTM(embed_size, vocab_size, num_layers,hidden_size, 10, embedding_matrix, grad_embedding=False) "
      ]
    },
    {
      "cell_type": "code",
      "execution_count": 64,
      "metadata": {
        "id": "0xRq_cWnWXL6"
      },
      "outputs": [],
      "source": [
        "criterion = nn.NLLLoss(ignore_index=padding_idx)\n",
        "optimizer = optim.Adam(Glove_model.parameters(), lr=0.0005, weight_decay=0.0005)"
      ]
    },
    {
      "cell_type": "code",
      "execution_count": 67,
      "metadata": {
        "colab": {
          "base_uri": "https://localhost:8080/"
        },
        "id": "Na5n46iapTGz",
        "outputId": "1f00ce6a-b77e-46df-8fa0-29ef930170a1"
      },
      "outputs": [
        {
          "data": {
            "text/plain": [
              "BiLSTM(\n",
              "  (embedding): Embedding(24373, 300)\n",
              "  (lstm): LSTM(300, 150, num_layers=2, batch_first=True, bidirectional=True)\n",
              "  (linear): Linear(in_features=300, out_features=10, bias=True)\n",
              "  (softmax): LogSoftmax(dim=1)\n",
              ")"
            ]
          },
          "execution_count": 67,
          "metadata": {
            "tags": []
          },
          "output_type": "execute_result"
        }
      ],
      "source": [
        "Glove_model.to(device)"
      ]
    },
    {
      "cell_type": "code",
      "execution_count": 68,
      "metadata": {
        "colab": {
          "base_uri": "https://localhost:8080/"
        },
        "id": "ir0VPUz0WXEg",
        "outputId": "7ff3724d-46ba-4bad-d899-79cccda99556"
      },
      "outputs": [
        {
          "name": "stdout",
          "output_type": "stream",
          "text": [
            "epoch: 0 -  train loss: 2.175556148474033 - validation loss: 1.8862315118312836 - train acc = 0.20708133012820512 - validation acc = 0.31178695436507936\n",
            "epoch: 1 -  train loss: 1.6163101929884691 - validation loss: 1.397066593170166 - train acc = 0.4280348557692308 - validation acc = 0.5390625\n",
            "epoch: 2 -  train loss: 1.2807922615454748 - validation loss: 1.2766124904155731 - train acc = 0.5551382211538461 - validation acc = 0.5529823908730158\n",
            "epoch: 3 -  train loss: 1.1169690696092753 - validation loss: 1.1767999231815338 - train acc = 0.6139656784188035 - validation acc = 0.5863715277777778\n",
            "epoch: 4 -  train loss: 0.9992263064934657 - validation loss: 1.1286509931087494 - train acc = 0.6537293002136753 - validation acc = 0.5940600198412699\n",
            "epoch: 5 -  train loss: 0.9196080668614461 - validation loss: 1.0850259065628052 - train acc = 0.6870325854700854 - validation acc = 0.6274181547619048\n",
            "epoch: 6 -  train loss: 0.8378197527848757 - validation loss: 1.1321394443511963 - train acc = 0.7146601228632478 - validation acc = 0.6157924107142857\n",
            "epoch: 7 -  train loss: 0.8058466808154032 - validation loss: 1.0927493572235107 - train acc = 0.7235076121794872 - validation acc = 0.6001054067460317\n",
            "epoch: 8 -  train loss: 0.728418584053333 - validation loss: 1.1226654350757599 - train acc = 0.7541733440170939 - validation acc = 0.6154823908730158\n",
            "epoch: 9 -  train loss: 0.6543182283639908 - validation loss: 1.1004230678081512 - train acc = 0.7801315438034189 - validation acc = 0.6312934027777778\n",
            "epoch: 10 -  train loss: 0.5962527365638659 - validation loss: 1.1205117404460907 - train acc = 0.8021334134615384 - validation acc = 0.6254340277777778\n",
            "epoch: 11 -  train loss: 0.5619425040024978 - validation loss: 1.2165440320968628 - train acc = 0.8135016025641026 - validation acc = 0.6139012896825397\n",
            "epoch: 12 -  train loss: 0.5057317448350099 - validation loss: 1.175276756286621 - train acc = 0.8326322115384616 - validation acc = 0.6099020337301587\n",
            "epoch: 13 -  train loss: 0.4856354599961868 - validation loss: 1.1890695095062256 - train acc = 0.8356203258547008 - validation acc = 0.6254960317460317\n",
            "epoch: 14 -  train loss: 0.42749309425170606 - validation loss: 1.2778518199920654 - train acc = 0.8621794871794872 - validation acc = 0.6060267857142857\n",
            "epoch: 15 -  train loss: 0.39242910221219063 - validation loss: 1.2425126731395721 - train acc = 0.8730802617521368 - validation acc = 0.6136532738095238\n",
            "epoch: 16 -  train loss: 0.3391979591777691 - validation loss: 1.3276577293872833 - train acc = 0.896000267094017 - validation acc = 0.6294022817460317\n",
            "epoch: 17 -  train loss: 0.2978237219727956 - validation loss: 1.3583503067493439 - train acc = 0.9112246260683761 - validation acc = 0.6139322916666666\n",
            "epoch: 18 -  train loss: 0.3075176612115823 - validation loss: 1.4294456839561462 - train acc = 0.903495592948718 - validation acc = 0.5961991567460317\n",
            "epoch: 19 -  train loss: 0.28048618137836456 - validation loss: 1.3984075486660004 - train acc = 0.9134448450854701 - validation acc = 0.6134672619047619\n",
            "epoch: 20 -  train loss: 0.24616977400504625 - validation loss: 1.4824221730232239 - train acc = 0.924362313034188 - validation acc = 0.6020585317460317\n",
            "epoch: 21 -  train loss: 0.2419942428286259 - validation loss: 1.4808646738529205 - train acc = 0.9288361378205128 - validation acc = 0.6196056547619048\n",
            "epoch: 22 -  train loss: 0.1991795037801449 - validation loss: 1.5509374141693115 - train acc = 0.9438267895299146 - validation acc = 0.6177455357142857\n",
            "epoch: 23 -  train loss: 0.17994919763161585 - validation loss: 1.6016181707382202 - train acc = 0.9501869658119658 - validation acc = 0.6194816468253969\n",
            "epoch: 24 -  train loss: 0.15575900215369004 - validation loss: 1.6409469246864319 - train acc = 0.9545606303418803 - validation acc = 0.5707465277777778\n",
            "training Finished in 29.588402271270752 seconds\n"
          ]
        }
      ],
      "source": [
        "import time\n",
        "start_time = time.time()\n",
        "num_epochs = 25\n",
        "train_glove_loss = []\n",
        "validation_glove_loss = []\n",
        "train_glove_acc=[]\n",
        "val_glove_acc = []\n",
        "for epoch in range(num_epochs):\n",
        "  running_loss = 0\n",
        "  running_acc=0\n",
        "  #print_examples(model, device, dataset)\n",
        "  for idx, (sentence, label) in enumerate(iter(data_loader)):\n",
        "    sentence, label = sentence.to(device),torch.tensor(list(label)).to(device)\n",
        "    Glove_model.train()\n",
        "    optimizer.zero_grad()\n",
        "    # Feed forward\n",
        "    outputs = Glove_model(sentence)\n",
        "    # Calculate the batch loss.\n",
        "    pred = torch.argmax(outputs, dim=1)\n",
        "    running_acc += sum(pred==label).item() /len(label)\n",
        "    loss = criterion(outputs, label)\n",
        "    # Backward pass.\n",
        "    loss.backward()\n",
        "    # Update the parameters in the optimizer.\n",
        "    optimizer.step()   \n",
        "    running_loss += loss.item()\n",
        "  Glove_model.eval()\n",
        "  running_loss_valid = 0.0\n",
        "  running_acc_valid = 0.0\n",
        "  for jdx, (sentence, label) in enumerate(iter(validation_loader)):\n",
        "    sentence, label = sentence.to(device),torch.tensor(list(label)).to(device)\n",
        "    \n",
        "    # Feed forward\n",
        "    outputs = Glove_model(sentence)\n",
        "    \n",
        "    loss = criterion(outputs, label)\n",
        "      \n",
        "    running_loss_valid += loss.item()\n",
        "\n",
        "    pred = torch.argmax(outputs, dim=1)\n",
        "    \n",
        "    running_acc_valid += sum(pred==label).item()/len(label)\n",
        "\n",
        "\n",
        "  print(f'epoch: {epoch} -  train loss: {running_loss / (idx+1)} - validation loss: {running_loss_valid/(jdx+1)} - train acc = {running_acc/(idx+1)} - validation acc = {running_acc_valid/(jdx+1)}')\n",
        "  train_glove_loss.append(running_loss / (idx+1))\n",
        "  validation_glove_loss.append(running_loss_valid/(jdx+1))\n",
        "  train_glove_acc.append(running_acc/(idx+1))\n",
        "  val_glove_acc.append(running_acc_valid/(jdx+1))\n",
        "  torch.save(Glove_model.cpu().state_dict(), 'final_model.pth') # saving model\n",
        "  Glove_model.to(device)\n",
        "\n",
        "running_time = time.time()-start_time\n",
        "print(f'training Finished in {running_time} seconds')"
      ]
    },
    {
      "cell_type": "code",
      "execution_count": 69,
      "metadata": {
        "colab": {
          "base_uri": "https://localhost:8080/",
          "height": 267
        },
        "id": "qo5CDujDWW0W",
        "outputId": "6a951c83-1cb2-497c-8b2f-fd04085fefe1"
      },
      "outputs": [
        {
          "data": {
            "image/png": "[encoded data removed]",
            "text/plain": [
              "<Figure size 432x288 with 1 Axes>"
            ]
          },
          "metadata": {
            "needs_background": "light",
            "tags": []
          },
          "output_type": "display_data"
        }
      ],
      "source": [
        "plt.plot(train_glove_loss)\n",
        "plt.plot(validation_glove_loss)\n",
        "plt.legend([\"train loss\", \"validation loss\"])\n",
        "plt.show()"
      ]
    },
    {
      "cell_type": "code",
      "execution_count": 70,
      "metadata": {
        "colab": {
          "base_uri": "https://localhost:8080/",
          "height": 265
        },
        "id": "kY3AAXHMWWvu",
        "outputId": "85f993af-d374-43dd-d85f-a5774086c5d0"
      },
      "outputs": [
        {
          "data": {
            "image/png": "[encoded data removed]",
            "text/plain": [
              "<Figure size 432x288 with 1 Axes>"
            ]
          },
          "metadata": {
            "needs_background": "light",
            "tags": []
          },
          "output_type": "display_data"
        }
      ],
      "source": [
        "plt.plot(train_glove_acc)\n",
        "plt.plot(val_glove_acc)\n",
        "plt.legend([\"train accuracy\", \"validation accuracy\"])\n",
        "plt.show()"
      ]
    },
    {
      "cell_type": "markdown",
      "metadata": {
        "id": "rPb9eo6egxpc"
      },
      "source": [
        "### test and evaluate model"
      ]
    },
    {
      "cell_type": "code",
      "execution_count": 71,
      "metadata": {
        "id": "8GK9sIL3WWrm"
      },
      "outputs": [],
      "source": [
        "y_pred_glove= []\n",
        "y_label_glove=[]\n",
        "with torch.no_grad():\n",
        "  for jdx, (sentence, label) in enumerate(iter(test_loader)):\n",
        "    sentence, label = sentence.to(device),torch.tensor(list(label)).to(device)\n",
        "    # Feed forward\n",
        "    outputs = Glove_model(sentence)\n",
        "    pred = torch.argmax(outputs, dim=1)\n",
        "    for i in range(len(label)):\n",
        "      y_pred_glove.append(pred[i].item())\n",
        "      y_label_glove.append(label[i].item())\n"
      ]
    },
    {
      "cell_type": "code",
      "execution_count": 72,
      "metadata": {
        "colab": {
          "base_uri": "https://localhost:8080/"
        },
        "id": "R93u3-QUWWiY",
        "outputId": "d10550a2-fd76-470a-dc0f-b5eaecdb9bf3"
      },
      "outputs": [
        {
          "name": "stdout",
          "output_type": "stream",
          "text": [
            "accuracy: 0.6017666543982333 \n",
            "\n",
            "precision:0.6314459948725772 \n",
            "\n",
            "recall: 0.6314459948725772 \n",
            "\n",
            "f1 score: 0.6104451815772465\n"
          ]
        }
      ],
      "source": [
        "print(f'''accuracy: {accuracy_score(y_label_glove, y_pred_glove, normalize=True)} \n",
        "\\nprecision:{precision_score(y_label_glove, y_pred_glove, average='macro')} \n",
        "\\nrecall: {precision_score(y_label_glove, y_pred_glove, average='macro')} \n",
        "\\nf1 score: {f1_score(y_label_glove, y_pred_glove, average='macro')}''')"
      ]
    },
    {
      "cell_type": "markdown",
      "metadata": {
        "id": "ih6LpFcOhbfC"
      },
      "source": [
        "### comparison of part A and part B"
      ]
    },
    {
      "cell_type": "code",
      "execution_count": 73,
      "metadata": {
        "colab": {
          "base_uri": "https://localhost:8080/",
          "height": 265
        },
        "id": "3CF7AZLChbGa",
        "outputId": "f524821d-3043-4d50-85ec-5ec26ba3692b"
      },
      "outputs": [
        {
          "data": {
            "image/png": "[encoded data removed]",
            "text/plain": [
              "<Figure size 432x288 with 1 Axes>"
            ]
          },
          "metadata": {
            "needs_background": "light",
            "tags": []
          },
          "output_type": "display_data"
        }
      ],
      "source": [
        "plt.plot(train_acc)\n",
        "plt.plot(train_glove_acc)\n",
        "plt.legend([\"random embedding weights\", \"Glove embedding weights\"])\n",
        "plt.show()"
      ]
    },
    {
      "cell_type": "code",
      "execution_count": 74,
      "metadata": {
        "colab": {
          "base_uri": "https://localhost:8080/",
          "height": 265
        },
        "id": "uFYWTz-ChaBl",
        "outputId": "6483660d-78d4-4790-8588-20e83337d63a"
      },
      "outputs": [
        {
          "data": {
            "image/png": "[encoded data removed]",
            "text/plain": [
              "<Figure size 432x288 with 1 Axes>"
            ]
          },
          "metadata": {
            "needs_background": "light",
            "tags": []
          },
          "output_type": "display_data"
        }
      ],
      "source": [
        "plt.plot(train_loss)\n",
        "plt.plot(train_glove_loss)\n",
        "plt.legend([\"random embedding weights\", \"Glove embedding weights\"])\n",
        "plt.show()"
      ]
    },
    {
      "cell_type": "markdown",
      "metadata": {
        "id": "PT9nPDzVisG-"
      },
      "source": [
        "## part C)"
      ]
    },
    {
      "cell_type": "markdown",
      "metadata": {
        "id": "slvaXzqcwsTE"
      },
      "source": [
        "### build a data loader for train, validation and test\n"
      ]
    },
    {
      "cell_type": "code",
      "execution_count": 75,
      "metadata": {
        "id": "UcEnUY_ZhZ9p"
      },
      "outputs": [],
      "source": [
        "train_data = [[torch.tensor(train_words_vec[i]),train_idxs[i], torch.tensor([train_labels[i]])] for i in range(len(train_labels))][:7110]"
      ]
    },
    {
      "cell_type": "code",
      "execution_count": 76,
      "metadata": {
        "id": "2PhYeGwuhZ4U"
      },
      "outputs": [],
      "source": [
        "test_data = [[torch.tensor(test_words_vec[i]),test_idxs[i], torch.tensor([test_labels[i]])] for i in range(len(test_labels))]"
      ]
    },
    {
      "cell_type": "code",
      "execution_count": 77,
      "metadata": {
        "id": "RqidHSNQoQDj"
      },
      "outputs": [],
      "source": [
        "train_set, val_set = torch.utils.data.random_split(train_data, [6600, 510])"
      ]
    },
    {
      "cell_type": "code",
      "execution_count": 78,
      "metadata": {
        "id": "fyXCCOvsoO2l"
      },
      "outputs": [],
      "source": [
        "def pad_collate(batch):\n",
        "  (xx,ent, yy) = zip(*batch)\n",
        "  x_lens = [len(x) for x in xx]\n",
        "  global padding_idx\n",
        "  xx_pad = pad_sequence(xx, batch_first=True, padding_value=padding_idx)\n",
        "\n",
        "  return xx_pad,ent, yy"
      ]
    },
    {
      "cell_type": "code",
      "execution_count": 79,
      "metadata": {
        "id": "lN5cW9VDoNkA"
      },
      "outputs": [],
      "source": [
        "data_loader = DataLoader(\n",
        "    dataset=train_set,\n",
        "    batch_size=128,\n",
        "    shuffle=True,\n",
        "    collate_fn=pad_collate\n",
        ")"
      ]
    },
    {
      "cell_type": "code",
      "execution_count": 80,
      "metadata": {
        "id": "-HTO75fZhZzF"
      },
      "outputs": [],
      "source": [
        "validation_loader = DataLoader(\n",
        "    dataset=val_set,\n",
        "    batch_size=128,\n",
        "    shuffle=True,\n",
        "    collate_fn=pad_collate\n",
        ")"
      ]
    },
    {
      "cell_type": "code",
      "execution_count": 81,
      "metadata": {
        "id": "Iz551ai7hZvJ"
      },
      "outputs": [],
      "source": [
        "test_loader = DataLoader(\n",
        "    dataset=test_data,\n",
        "    batch_size=128,\n",
        "    shuffle=True,\n",
        "    collate_fn=pad_collate\n",
        ")"
      ]
    },
    {
      "cell_type": "markdown",
      "metadata": {
        "id": "xLei8ghuw9lm"
      },
      "source": [
        "\n",
        "### create bi-LSTM model\n"
      ]
    },
    {
      "cell_type": "code",
      "execution_count": 82,
      "metadata": {
        "id": "5_9fiJhHojt3"
      },
      "outputs": [],
      "source": [
        "class BiLSTM(nn.Module):\n",
        "    \n",
        "    def __init__(self, embeding_size, vocab_size,num_layer, hidden_size, num_classes, embedding_weights, grad_embedding=True):\n",
        "        super(BiLSTM, self).__init__()\n",
        "        self.hidden_size = hidden_size\n",
        "        drp = 0.1\n",
        "        n_classes = num_classes\n",
        "        self.embedding = nn.Embedding(vocab_size,embeding_size)\n",
        "        self.embedding.weight = nn.Parameter(torch.tensor(embedding_weights, dtype=torch.float32))\n",
        "        self.embedding.weight.requires_grad = grad_embedding\n",
        "        self.lstm = nn.LSTM(input_size = embed_size,num_layers = num_layer, hidden_size = self.hidden_size, bidirectional=True, batch_first=True)\n",
        "        self.linear = nn.Linear(self.hidden_size*2 , 10)\n",
        "        self.dropout = nn.Dropout(0.9)\n",
        "        self.softmax = nn.LogSoftmax(dim=1)\n",
        "        \n",
        "        \n",
        "\n",
        "\n",
        "    def forward(self, x, entities):\n",
        "        \n",
        "        h_embedding = self.dropout(self.embedding(x))\n",
        "        packed_output, (hidden, cell) = self.lstm(h_embedding)\n",
        "\n",
        "        # max pooling forward and backward\n",
        "        m = nn.MaxPool1d(2, stride=2)\n",
        "        output = m(packed_output)\n",
        "        # average pooling\n",
        "        my_list = []\n",
        "        for i in range(x.size(0)):\n",
        "          e1_indexes = [i for i in entities[i][0]]\n",
        "          e2_indexes = [i for i in entities[i][1]]\n",
        "          my_list.append(torch.cat((torch.mean(output[i,e1_indexes,:], dim=0), torch.mean(output[i,e2_indexes,:], dim=0)), dim=0))\n",
        "          \n",
        "        cat = torch.stack(my_list)\n",
        "        conc = self.softmax(self.linear(cat))\n",
        "        return conc"
      ]
    },
    {
      "cell_type": "markdown",
      "metadata": {
        "id": "s3B2H-YpxFMX"
      },
      "source": [
        "### train and validate network for some epochs\n"
      ]
    },
    {
      "cell_type": "code",
      "execution_count": 83,
      "metadata": {
        "id": "vWFH9Y6aojpc"
      },
      "outputs": [],
      "source": [
        "embed_size = embedding_matrix.shape[1]\n",
        "hidden_size=150\n",
        "num_layers=2\n",
        "vocab_size = embedding_matrix.shape[0]\n"
      ]
    },
    {
      "cell_type": "code",
      "execution_count": 88,
      "metadata": {
        "id": "R4_WHRCdojQr"
      },
      "outputs": [],
      "source": [
        "pooling_model = BiLSTM(embed_size, vocab_size, num_layers,hidden_size, 10, embedding_matrix, grad_embedding=False) # embeding_size, vocab_size,num_layer, hidden_size, num_classes, embedding_wei"
      ]
    },
    {
      "cell_type": "code",
      "execution_count": 89,
      "metadata": {
        "colab": {
          "base_uri": "https://localhost:8080/"
        },
        "id": "_L53Xc-RshXb",
        "outputId": "d81a1a13-754e-4a82-cb49-a961c499b4f9"
      },
      "outputs": [
        {
          "data": {
            "text/plain": [
              "BiLSTM(\n",
              "  (embedding): Embedding(24373, 300)\n",
              "  (lstm): LSTM(300, 150, num_layers=2, batch_first=True, bidirectional=True)\n",
              "  (linear): Linear(in_features=300, out_features=10, bias=True)\n",
              "  (dropout): Dropout(p=0.9, inplace=False)\n",
              "  (softmax): LogSoftmax(dim=1)\n",
              ")"
            ]
          },
          "execution_count": 89,
          "metadata": {
            "tags": []
          },
          "output_type": "execute_result"
        }
      ],
      "source": [
        "pooling_model.to(device)"
      ]
    },
    {
      "cell_type": "code",
      "execution_count": 90,
      "metadata": {
        "id": "WgAz52M2ojMb"
      },
      "outputs": [],
      "source": [
        "criterion = nn.NLLLoss(ignore_index=padding_idx)\n",
        "optimizer = optim.Adam(pooling_model.parameters(), lr=0.0005, weight_decay=0.0005)"
      ]
    },
    {
      "cell_type": "code",
      "execution_count": 91,
      "metadata": {
        "colab": {
          "base_uri": "https://localhost:8080/"
        },
        "id": "ptyNb5OBojHD",
        "outputId": "7fdf632e-1e49-4bcd-dee2-02969c8153f1"
      },
      "outputs": [
        {
          "name": "stdout",
          "output_type": "stream",
          "text": [
            "epoch: 0 -  train loss: 2.2450805077186 - validation loss: 2.129550874233246 - train acc = 0.16205929487179488 - validation acc = 0.2177579365079365\n",
            "epoch: 1 -  train loss: 1.9840363974754627 - validation loss: 1.616012841463089 - train acc = 0.297275641025641 - validation acc = 0.4097222222222222\n",
            "epoch: 2 -  train loss: 1.6592552272173076 - validation loss: 1.4584732353687286 - train acc = 0.41768496260683763 - validation acc = 0.49600074404761907\n",
            "epoch: 3 -  train loss: 1.5122240827633784 - validation loss: 1.2625480592250824 - train acc = 0.4644931891025641 - validation acc = 0.5569196428571428\n",
            "epoch: 4 -  train loss: 1.414905188175348 - validation loss: 1.190408855676651 - train acc = 0.5002170138888888 - validation acc = 0.5841393849206349\n",
            "epoch: 5 -  train loss: 1.369106792486631 - validation loss: 1.0986224710941315 - train acc = 0.5269264155982906 - validation acc = 0.6175285218253969\n",
            "epoch: 6 -  train loss: 1.3129962063752687 - validation loss: 1.073317527770996 - train acc = 0.5456229967948718 - validation acc = 0.6235119047619048\n",
            "epoch: 7 -  train loss: 1.2696807063542879 - validation loss: 1.0419392138719559 - train acc = 0.5530515491452992 - validation acc = 0.6078869047619048\n",
            "epoch: 8 -  train loss: 1.2281158910347865 - validation loss: 0.9797234386205673 - train acc = 0.5712640224358975 - validation acc = 0.6390749007936508\n",
            "epoch: 9 -  train loss: 1.229904335278731 - validation loss: 1.0125009566545486 - train acc = 0.5822649572649573 - validation acc = 0.6489955357142857\n",
            "epoch: 10 -  train loss: 1.2090957164764404 - validation loss: 0.9738516807556152 - train acc = 0.5810797275641025 - validation acc = 0.6451822916666666\n",
            "epoch: 11 -  train loss: 1.184541140611355 - validation loss: 0.9818872660398483 - train acc = 0.5796607905982906 - validation acc = 0.6510106646825397\n",
            "epoch: 12 -  train loss: 1.1576054314008126 - validation loss: 0.9593433141708374 - train acc = 0.5953358707264957 - validation acc = 0.6548859126984127\n",
            "epoch: 13 -  train loss: 1.1636532556552153 - validation loss: 0.9256202727556229 - train acc = 0.5936832264957265 - validation acc = 0.6586371527777778\n",
            "epoch: 14 -  train loss: 1.1303555575700908 - validation loss: 0.9492235034704208 - train acc = 0.6116619925213675 - validation acc = 0.6587611607142857\n",
            "epoch: 15 -  train loss: 1.0969466395103014 - validation loss: 0.9344115257263184 - train acc = 0.623714610042735 - validation acc = 0.6785714285714286\n",
            "epoch: 16 -  train loss: 1.110926967400771 - validation loss: 0.9212904572486877 - train acc = 0.6125300480769231 - validation acc = 0.6629154265873016\n",
            "epoch: 17 -  train loss: 1.1088172632914324 - validation loss: 0.9090146571397781 - train acc = 0.6114449786324786 - validation acc = 0.6688058035714286\n",
            "epoch: 18 -  train loss: 1.0715783410347426 - validation loss: 0.9390561580657959 - train acc = 0.6258513621794872 - validation acc = 0.6588541666666666\n",
            "epoch: 19 -  train loss: 1.0599447775345583 - validation loss: 0.9170388877391815 - train acc = 0.6330629006410257 - validation acc = 0.6649615575396826\n",
            "epoch: 20 -  train loss: 1.0693568415366685 - validation loss: 0.9142550081014633 - train acc = 0.6255508814102565 - validation acc = 0.6803075396825397\n",
            "epoch: 21 -  train loss: 1.0511921896384313 - validation loss: 0.95174141228199 - train acc = 0.6306089743589743 - validation acc = 0.6587301587301587\n",
            "epoch: 22 -  train loss: 1.034199832723691 - validation loss: 0.9162849932909012 - train acc = 0.6397402510683761 - validation acc = 0.6765252976190477\n",
            "epoch: 23 -  train loss: 1.0370606264242759 - validation loss: 0.8844087570905685 - train acc = 0.6321948450854701 - validation acc = 0.6942274305555556\n",
            "epoch: 24 -  train loss: 1.0215491514939528 - validation loss: 0.8795410394668579 - train acc = 0.6426448985042735 - validation acc = 0.6841517857142857\n",
            "training Finished in 592.4890701770782 seconds\n"
          ]
        }
      ],
      "source": [
        "import time\n",
        "start_time = time.time()\n",
        "num_epochs = 25\n",
        "train_pooling_loss = []\n",
        "validation_pooling_loss = []\n",
        "train_pooling_acc=[]\n",
        "val_pooling_acc = []\n",
        "for epoch in range(num_epochs):\n",
        "  running_loss = 0\n",
        "  running_acc=0\n",
        "  for idx, (sentence,entity_list, label) in enumerate(iter(data_loader)):\n",
        "\n",
        "    sentence, label = sentence.to(device),torch.tensor(list(label)).to(device)\n",
        "    pooling_model.train()\n",
        "    \n",
        "      optimizer.zero_grad()\n",
        "    # Feed forward\n",
        "      outputs = pooling_model(sentence, entity_list)\n",
        "    # Calculate the batch loss.\n",
        "      pred = torch.argmax(outputs, dim=1)\n",
        "      loss = criterion(outputs, label)\n",
        "    # Backward pass.\n",
        "      loss.backward()\n",
        "    # Update the parameters in the optimizer.\n",
        "      optimizer.step()   \n",
        "      running_loss += loss.item()\n",
        "    running_acc += sum(pred==label).item() /len(label)\n",
        "  pooling_model.eval()\n",
        "  running_loss_valid = 0.0\n",
        "  running_acc_valid = 0.0\n",
        "  for jdx, (sentence,entity_list, label) in enumerate(iter(validation_loader)):\n",
        "    sentence, label = sentence.to(device),torch.tensor(list(label)).to(device)\n",
        "    # Feed forward\n",
        "    outputs = pooling_model(sentence,entity_list)\n",
        "    \n",
        "    loss = criterion(outputs, label)\n",
        "      \n",
        "    running_loss_valid += loss.item()\n",
        "\n",
        "    pred = torch.argmax(outputs, dim=1)\n",
        "    \n",
        "    running_acc_valid += sum(pred==label).item()/len(label)\n",
        "\n",
        "\n",
        "  print(f'epoch: {epoch} -  train loss: {running_loss / (idx+1)} - validation loss: {running_loss_valid/(jdx+1)} - train acc = {running_acc/(idx+1)} - validation acc = {running_acc_valid/(jdx+1)}')\n",
        "  train_pooling_loss.append(running_loss / (idx+1))\n",
        "  validation_pooling_loss.append(running_loss_valid/(jdx+1))\n",
        "  train_pooling_acc.append(running_acc/(idx+1))\n",
        "  val_pooling_acc.append(running_acc_valid/(jdx+1))\n",
        "  torch.save(pooling_model.cpu().state_dict(), 'final_model.pth') # saving model\n",
        "  pooling_model.to(device)\n",
        "\n",
        "running_time = time.time()-start_time\n",
        "print(f'training Finished in {running_time} seconds')"
      ]
    },
    {
      "cell_type": "code",
      "execution_count": 92,
      "metadata": {
        "colab": {
          "base_uri": "https://localhost:8080/",
          "height": 265
        },
        "id": "Yr8W5b-MojCk",
        "outputId": "dfa560c7-5fdc-4095-970c-5a35a0264fee"
      },
      "outputs": [
        {
          "data": {
            "image/png": "[encoded data removed]",
            "text/plain": [
              "<Figure size 432x288 with 1 Axes>"
            ]
          },
          "metadata": {
            "needs_background": "light",
            "tags": []
          },
          "output_type": "display_data"
        }
      ],
      "source": [
        "plt.plot(train_pooling_acc)\n",
        "plt.plot(val_pooling_acc)\n",
        "plt.legend([\"train accuracy\", \"validation accuracy\"])\n",
        "plt.show()"
      ]
    },
    {
      "cell_type": "code",
      "execution_count": 93,
      "metadata": {
        "colab": {
          "base_uri": "https://localhost:8080/",
          "height": 265
        },
        "id": "G4bZ-48ThZqe",
        "outputId": "8f2c9184-3953-45e0-84b2-7f07b4a9c900"
      },
      "outputs": [
        {
          "data": {
            "image/png": "[encoded data removed]",
            "text/plain": [
              "<Figure size 432x288 with 1 Axes>"
            ]
          },
          "metadata": {
            "needs_background": "light",
            "tags": []
          },
          "output_type": "display_data"
        }
      ],
      "source": [
        "plt.plot(train_pooling_loss)\n",
        "plt.plot(validation_pooling_loss)\n",
        "plt.legend([\"train loss\", \"validation loss\"])\n",
        "plt.show()"
      ]
    },
    {
      "cell_type": "markdown",
      "metadata": {
        "id": "QZEMaMKrxN3H"
      },
      "source": [
        "### test and evaluate model"
      ]
    },
    {
      "cell_type": "code",
      "execution_count": 94,
      "metadata": {
        "id": "it0ii7iA1klF"
      },
      "outputs": [],
      "source": [
        "y_pred_pooling= []\n",
        "y_label_pooling=[]\n",
        "with torch.no_grad():\n",
        "  for jdx, (sentence,entites, label) in enumerate(iter(test_loader)):\n",
        "    sentence, label = sentence.to(device),torch.tensor(list(label)).to(device)\n",
        "    # Feed forward\n",
        "    outputs = pooling_model(sentence, entites)\n",
        "    pred = torch.argmax(outputs, dim=1)\n",
        "    for i in range(len(label)):\n",
        "      y_pred_pooling.append(pred[i].item())\n",
        "      y_label_pooling.append(label[i].item())\n"
      ]
    },
    {
      "cell_type": "code",
      "execution_count": 95,
      "metadata": {
        "colab": {
          "base_uri": "https://localhost:8080/"
        },
        "id": "jNOSCnPvhZlq",
        "outputId": "11d0a5ba-edc8-4af0-9fff-cab84d6d07ba"
      },
      "outputs": [
        {
          "name": "stdout",
          "output_type": "stream",
          "text": [
            "accuracy: 0.6919396393080604 \n",
            "\n",
            "precision:0.6877759130570967 \n",
            "\n",
            "recall: 0.6877759130570967 \n",
            "\n",
            "f1 score: 0.6855835778655847\n"
          ]
        }
      ],
      "source": [
        "print(f'''accuracy: {accuracy_score(y_label_pooling, y_pred_pooling, normalize=True)} \n",
        "\\nprecision:{precision_score(y_label_pooling, y_pred_pooling, average='macro')} \n",
        "\\nrecall: {precision_score(y_label_pooling, y_pred_pooling, average='macro')} \n",
        "\\nf1 score: {f1_score(y_label_pooling, y_pred_pooling, average='macro')}''')"
      ]
    },
    {
      "cell_type": "code",
      "execution_count": 96,
      "metadata": {
        "colab": {
          "base_uri": "https://localhost:8080/"
        },
        "id": "6T9W5aHe6lGc",
        "outputId": "d82f0967-2072-43c0-cad0-86e8cf5c2cc8"
      },
      "outputs": [
        {
          "name": "stdout",
          "output_type": "stream",
          "text": [
            "Collecting scikit-plot\n",
            "  Downloading https://files.pythonhosted.org/packages/7c/47/32520e259340c140a4ad27c1b97050dd3254fdc517b1d59974d47037510e/scikit_plot-0.3.7-py3-none-any.whl\n",
            "Requirement already satisfied: scipy>=0.9 in /usr/local/lib/python3.7/dist-packages (from scikit-plot) (1.4.1)\n",
            "Requirement already satisfied: joblib>=0.10 in /usr/local/lib/python3.7/dist-packages (from scikit-plot) (1.0.1)\n",
            "Requirement already satisfied: scikit-learn>=0.18 in /usr/local/lib/python3.7/dist-packages (from scikit-plot) (0.22.2.post1)\n",
            "Requirement already satisfied: matplotlib>=1.4.0 in /usr/local/lib/python3.7/dist-packages (from scikit-plot) (3.2.2)\n",
            "Requirement already satisfied: numpy>=1.13.3 in /usr/local/lib/python3.7/dist-packages (from scipy>=0.9->scikit-plot) (1.19.5)\n",
            "Requirement already satisfied: python-dateutil>=2.1 in /usr/local/lib/python3.7/dist-packages (from matplotlib>=1.4.0->scikit-plot) (2.8.1)\n",
            "Requirement already satisfied: cycler>=0.10 in /usr/local/lib/python3.7/dist-packages (from matplotlib>=1.4.0->scikit-plot) (0.10.0)\n",
            "Requirement already satisfied: kiwisolver>=1.0.1 in /usr/local/lib/python3.7/dist-packages (from matplotlib>=1.4.0->scikit-plot) (1.3.1)\n",
            "Requirement already satisfied: pyparsing!=2.0.4,!=2.1.2,!=2.1.6,>=2.0.1 in /usr/local/lib/python3.7/dist-packages (from matplotlib>=1.4.0->scikit-plot) (2.4.7)\n",
            "Requirement already satisfied: six>=1.5 in /usr/local/lib/python3.7/dist-packages (from python-dateutil>=2.1->matplotlib>=1.4.0->scikit-plot) (1.15.0)\n",
            "Installing collected packages: scikit-plot\n",
            "Successfully installed scikit-plot-0.3.7\n"
          ]
        }
      ],
      "source": [
        "!pip install scikit-plot"
      ]
    },
    {
      "cell_type": "code",
      "execution_count": 97,
      "metadata": {
        "colab": {
          "base_uri": "https://localhost:8080/",
          "height": 758
        },
        "id": "QpB2I3XixVrK",
        "outputId": "f8839ca3-3cfc-42a8-8761-9aa5f3390b41"
      },
      "outputs": [
        {
          "data": {
            "text/plain": [
              "<matplotlib.axes._subplots.AxesSubplot at 0x7ff3d1c25cd0>"
            ]
          },
          "execution_count": 97,
          "metadata": {
            "tags": []
          },
          "output_type": "execute_result"
        },
        {
          "data": {
            "image/png": "[encoded data removed]",
            "text/plain": [
              "<Figure size 864x864 with 2 Axes>"
            ]
          },
          "metadata": {
            "needs_background": "light",
            "tags": []
          },
          "output_type": "display_data"
        }
      ],
      "source": [
        "import scikitplot as skplt\n",
        "y_true = [lb2rel[item] for item in y_label_pooling]\n",
        "y_pred = [lb2rel[item] for item in y_pred_pooling]\n",
        "skplt.metrics.plot_confusion_matrix(\n",
        "    y_true, \n",
        "    y_pred,\n",
        "    figsize=(12,12),x_tick_rotation=90)"
      ]
    },
    {
      "cell_type": "code",
      "execution_count": null,
      "metadata": {
        "id": "iVlsuypgvVIP"
      },
      "outputs": [],
      "source": []
    }
  ],
  "metadata": {
    "accelerator": "GPU",
    "colab": {
      "collapsed_sections": [],
      "name": "DL_HW3_Q2.ipynb",
      "provenance": []
    },
    "kernelspec": {
      "display_name": "Python 3",
      "name": "python3"
    },
    "language_info": {
      "name": "python"
    }
  },
  "nbformat": 4,
  "nbformat_minor": 0
}
