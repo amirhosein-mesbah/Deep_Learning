{
  "nbformat": 4,
  "nbformat_minor": 0,
  "metadata": {
    "colab": {
      "name": "DeepLearning_HW1.ipynb",
      "provenance": [],
      "collapsed_sections": []
    },
    "kernelspec": {
      "display_name": "Python 3",
      "name": "python3"
    },
    "language_info": {
      "name": "python"
    }
  },
  "cells": [
    {
      "cell_type": "markdown",
      "metadata": {
        "id": "jyFLqiYeTFtJ"
      },
      "source": [
        "# importing Libraries"
      ]
    },
    {
      "cell_type": "code",
      "metadata": {
        "id": "4G5xo2V0RtDS"
      },
      "source": [
        "import re                             # Regular expressions to process text\n",
        "import numpy as np                    # Package for array operations\n",
        "import zipfile                        # So we can unzip a zip file/\n",
        "from random import shuffle            # To shuffle the data\n",
        "from matplotlib import pyplot as plt  # Package for plotting data\n",
        "from google.colab import drive        # So we can read files from our Google Drive\n",
        "from glob import glob                 # So we can get filenames\n",
        "from pandas import DataFrame as DF    # So we can manipulate \"spreadsheets\"\n",
        "import cv2                            # so we can read images\n",
        "from sklearn.decomposition import IncrementalPCA      #to apply incremental PCA on data\n",
        "from sklearn import preprocessing                     #to normalize data"
      ],
      "execution_count": 1,
      "outputs": []
    },
    {
      "cell_type": "markdown",
      "metadata": {
        "id": "Vnv0xPwjUNoE"
      },
      "source": [
        "# Reading dataset and Mounting on Colab"
      ]
    },
    {
      "cell_type": "code",
      "metadata": {
        "colab": {
          "base_uri": "https://localhost:8080/"
        },
        "id": "9Ur7MJH5R-2c",
        "outputId": "ac0bd0ac-e4c6-4e63-9eb1-f08f4ed52949"
      },
      "source": [
        "!pip install gdown"
      ],
      "execution_count": 2,
      "outputs": [
        {
          "output_type": "stream",
          "text": [
            "Requirement already satisfied: gdown in /usr/local/lib/python3.7/dist-packages (3.6.4)\n",
            "Requirement already satisfied: tqdm in /usr/local/lib/python3.7/dist-packages (from gdown) (4.41.1)\n",
            "Requirement already satisfied: six in /usr/local/lib/python3.7/dist-packages (from gdown) (1.15.0)\n",
            "Requirement already satisfied: requests in /usr/local/lib/python3.7/dist-packages (from gdown) (2.23.0)\n",
            "Requirement already satisfied: urllib3!=1.25.0,!=1.25.1,<1.26,>=1.21.1 in /usr/local/lib/python3.7/dist-packages (from requests->gdown) (1.24.3)\n",
            "Requirement already satisfied: idna<3,>=2.5 in /usr/local/lib/python3.7/dist-packages (from requests->gdown) (2.10)\n",
            "Requirement already satisfied: certifi>=2017.4.17 in /usr/local/lib/python3.7/dist-packages (from requests->gdown) (2020.12.5)\n",
            "Requirement already satisfied: chardet<4,>=3.0.2 in /usr/local/lib/python3.7/dist-packages (from requests->gdown) (3.0.4)\n"
          ],
          "name": "stdout"
        }
      ]
    },
    {
      "cell_type": "code",
      "metadata": {
        "colab": {
          "base_uri": "https://localhost:8080/"
        },
        "id": "H3eQbrfcSCK6",
        "outputId": "56390458-e43e-4ed4-8849-0af81249ff16"
      },
      "source": [
        "!gdown \"https://drive.google.com/uc?id=1soToY0PTngPRnRo5DCFZveVGwZsPCmX-\""
      ],
      "execution_count": 3,
      "outputs": [
        {
          "output_type": "stream",
          "text": [
            "Downloading...\n",
            "From: https://drive.google.com/uc?id=1soToY0PTngPRnRo5DCFZveVGwZsPCmX-\n",
            "To: /content/UTKFace.tar\n",
            "138MB [00:01, 101MB/s] \n"
          ],
          "name": "stdout"
        }
      ]
    },
    {
      "cell_type": "code",
      "metadata": {
        "id": "zZOb7wbASFGK"
      },
      "source": [
        "!tar -xf UTKFace.tar #unzip data"
      ],
      "execution_count": 4,
      "outputs": []
    },
    {
      "cell_type": "code",
      "metadata": {
        "colab": {
          "base_uri": "https://localhost:8080/"
        },
        "id": "xwN4Q8lmSKFG",
        "outputId": "1e11cf23-b188-439c-da71-d2cecf9e44a2"
      },
      "source": [
        "image_filenames = glob('./UTKFace/*.jpg') #read all directories which are our data(images)\n",
        "print(len(image_filenames))"
      ],
      "execution_count": 5,
      "outputs": [
        {
          "output_type": "stream",
          "text": [
            "23708\n"
          ],
          "name": "stdout"
        }
      ]
    },
    {
      "cell_type": "code",
      "metadata": {
        "colab": {
          "base_uri": "https://localhost:8080/",
          "height": 35
        },
        "id": "ctu8dRNLSVB8",
        "outputId": "6f2aceec-5684-4ca9-e99f-befe0305d5b8"
      },
      "source": [
        "image_filenames[0]"
      ],
      "execution_count": 6,
      "outputs": [
        {
          "output_type": "execute_result",
          "data": {
            "application/vnd.google.colaboratory.intrinsic+json": {
              "type": "string"
            },
            "text/plain": [
              "'./UTKFace/26_0_1_20170113135238738.jpg.chip.jpg'"
            ]
          },
          "metadata": {
            "tags": []
          },
          "execution_count": 6
        }
      ]
    },
    {
      "cell_type": "code",
      "metadata": {
        "id": "CrWYUn4xSXZJ"
      },
      "source": [
        "shuffle(image_filenames) #shuffle data"
      ],
      "execution_count": 7,
      "outputs": []
    },
    {
      "cell_type": "code",
      "metadata": {
        "colab": {
          "base_uri": "https://localhost:8080/",
          "height": 35
        },
        "id": "bxRCg4hpTKm6",
        "outputId": "92980178-5482-4af1-f9f8-f3e83d6e4d75"
      },
      "source": [
        "image_filenames[0]"
      ],
      "execution_count": 8,
      "outputs": [
        {
          "output_type": "execute_result",
          "data": {
            "application/vnd.google.colaboratory.intrinsic+json": {
              "type": "string"
            },
            "text/plain": [
              "'./UTKFace/55_0_0_20170120221715677.jpg.chip.jpg'"
            ]
          },
          "metadata": {
            "tags": []
          },
          "execution_count": 8
        }
      ]
    },
    {
      "cell_type": "markdown",
      "metadata": {
        "id": "ifYmDo-XVHeH"
      },
      "source": [
        "seperate path, age, gender and race for each image from image's path by using regex (use part of this [code](https://colab.research.google.com/drive/1EGLzda6w6vK4bdZa6EKFg_512RZ5Xk6r#scrollTo=8C_hTzVTV_2o&line=1&uniqifier=1))"
      ]
    },
    {
      "cell_type": "code",
      "metadata": {
        "id": "tkuLgfLdS0y9"
      },
      "source": [
        "import re\n",
        "regex_name = '.*/(\\d+)_(\\d+)_(\\d+)_.*.jpg'\n",
        "matches = [re.match(regex_name, f) for f in image_filenames]\n",
        "labels = DF([[m[i] for i in range(4)] for m in matches if m], columns=['path', 'age', 'gender', 'race'])\n"
      ],
      "execution_count": 9,
      "outputs": []
    },
    {
      "cell_type": "code",
      "metadata": {
        "colab": {
          "base_uri": "https://localhost:8080/",
          "height": 419
        },
        "id": "CtU4CLa9S9jZ",
        "outputId": "01d34df3-eed7-492e-c0fe-8888f2dd586f"
      },
      "source": [
        "labels"
      ],
      "execution_count": 10,
      "outputs": [
        {
          "output_type": "execute_result",
          "data": {
            "text/html": [
              "<div>\n",
              "<style scoped>\n",
              "    .dataframe tbody tr th:only-of-type {\n",
              "        vertical-align: middle;\n",
              "    }\n",
              "\n",
              "    .dataframe tbody tr th {\n",
              "        vertical-align: top;\n",
              "    }\n",
              "\n",
              "    .dataframe thead th {\n",
              "        text-align: right;\n",
              "    }\n",
              "</style>\n",
              "<table border=\"1\" class=\"dataframe\">\n",
              "  <thead>\n",
              "    <tr style=\"text-align: right;\">\n",
              "      <th></th>\n",
              "      <th>path</th>\n",
              "      <th>age</th>\n",
              "      <th>gender</th>\n",
              "      <th>race</th>\n",
              "    </tr>\n",
              "  </thead>\n",
              "  <tbody>\n",
              "    <tr>\n",
              "      <th>0</th>\n",
              "      <td>./UTKFace/55_0_0_20170120221715677.jpg.chip.jpg</td>\n",
              "      <td>55</td>\n",
              "      <td>0</td>\n",
              "      <td>0</td>\n",
              "    </tr>\n",
              "    <tr>\n",
              "      <th>1</th>\n",
              "      <td>./UTKFace/61_0_2_20170104210058436.jpg.chip.jpg</td>\n",
              "      <td>61</td>\n",
              "      <td>0</td>\n",
              "      <td>2</td>\n",
              "    </tr>\n",
              "    <tr>\n",
              "      <th>2</th>\n",
              "      <td>./UTKFace/14_0_1_20170113145153262.jpg.chip.jpg</td>\n",
              "      <td>14</td>\n",
              "      <td>0</td>\n",
              "      <td>1</td>\n",
              "    </tr>\n",
              "    <tr>\n",
              "      <th>3</th>\n",
              "      <td>./UTKFace/28_0_1_20170117202249743.jpg.chip.jpg</td>\n",
              "      <td>28</td>\n",
              "      <td>0</td>\n",
              "      <td>1</td>\n",
              "    </tr>\n",
              "    <tr>\n",
              "      <th>4</th>\n",
              "      <td>./UTKFace/16_0_1_20170105183511375.jpg.chip.jpg</td>\n",
              "      <td>16</td>\n",
              "      <td>0</td>\n",
              "      <td>1</td>\n",
              "    </tr>\n",
              "    <tr>\n",
              "      <th>...</th>\n",
              "      <td>...</td>\n",
              "      <td>...</td>\n",
              "      <td>...</td>\n",
              "      <td>...</td>\n",
              "    </tr>\n",
              "    <tr>\n",
              "      <th>23700</th>\n",
              "      <td>./UTKFace/54_0_0_20170111195832210.jpg.chip.jpg</td>\n",
              "      <td>54</td>\n",
              "      <td>0</td>\n",
              "      <td>0</td>\n",
              "    </tr>\n",
              "    <tr>\n",
              "      <th>23701</th>\n",
              "      <td>./UTKFace/29_0_2_20170116163503418.jpg.chip.jpg</td>\n",
              "      <td>29</td>\n",
              "      <td>0</td>\n",
              "      <td>2</td>\n",
              "    </tr>\n",
              "    <tr>\n",
              "      <th>23702</th>\n",
              "      <td>./UTKFace/5_1_3_20170119154358954.jpg.chip.jpg</td>\n",
              "      <td>5</td>\n",
              "      <td>1</td>\n",
              "      <td>3</td>\n",
              "    </tr>\n",
              "    <tr>\n",
              "      <th>23703</th>\n",
              "      <td>./UTKFace/21_1_3_20170117142547194.jpg.chip.jpg</td>\n",
              "      <td>21</td>\n",
              "      <td>1</td>\n",
              "      <td>3</td>\n",
              "    </tr>\n",
              "    <tr>\n",
              "      <th>23704</th>\n",
              "      <td>./UTKFace/28_0_0_20170117120226377.jpg.chip.jpg</td>\n",
              "      <td>28</td>\n",
              "      <td>0</td>\n",
              "      <td>0</td>\n",
              "    </tr>\n",
              "  </tbody>\n",
              "</table>\n",
              "<p>23705 rows × 4 columns</p>\n",
              "</div>"
            ],
            "text/plain": [
              "                                                  path age gender race\n",
              "0      ./UTKFace/55_0_0_20170120221715677.jpg.chip.jpg  55      0    0\n",
              "1      ./UTKFace/61_0_2_20170104210058436.jpg.chip.jpg  61      0    2\n",
              "2      ./UTKFace/14_0_1_20170113145153262.jpg.chip.jpg  14      0    1\n",
              "3      ./UTKFace/28_0_1_20170117202249743.jpg.chip.jpg  28      0    1\n",
              "4      ./UTKFace/16_0_1_20170105183511375.jpg.chip.jpg  16      0    1\n",
              "...                                                ...  ..    ...  ...\n",
              "23700  ./UTKFace/54_0_0_20170111195832210.jpg.chip.jpg  54      0    0\n",
              "23701  ./UTKFace/29_0_2_20170116163503418.jpg.chip.jpg  29      0    2\n",
              "23702   ./UTKFace/5_1_3_20170119154358954.jpg.chip.jpg   5      1    3\n",
              "23703  ./UTKFace/21_1_3_20170117142547194.jpg.chip.jpg  21      1    3\n",
              "23704  ./UTKFace/28_0_0_20170117120226377.jpg.chip.jpg  28      0    0\n",
              "\n",
              "[23705 rows x 4 columns]"
            ]
          },
          "metadata": {
            "tags": []
          },
          "execution_count": 10
        }
      ]
    },
    {
      "cell_type": "markdown",
      "metadata": {
        "id": "n4BUeHY_qirD"
      },
      "source": [
        "reading images from pathes"
      ]
    },
    {
      "cell_type": "code",
      "metadata": {
        "id": "CTpMuFSmUlJV"
      },
      "source": [
        "only_files = labels['path'].values\n",
        "images = []\n",
        "\n",
        "for n in range(0, len(only_files)):\n",
        "  img = cv2.imread( only_files[n] )\n",
        "  images.append(img.flatten())\n"
      ],
      "execution_count": 11,
      "outputs": []
    },
    {
      "cell_type": "code",
      "metadata": {
        "id": "hjjMbRx5Cb-E"
      },
      "source": [
        "images = np.array(images)"
      ],
      "execution_count": 12,
      "outputs": []
    },
    {
      "cell_type": "markdown",
      "metadata": {
        "id": "m-bMDXtbsDfZ"
      },
      "source": [
        "# Normalization and Dimension reduction"
      ]
    },
    {
      "cell_type": "markdown",
      "metadata": {
        "id": "WLLF-1zOquf5"
      },
      "source": [
        "calculate mean of images"
      ]
    },
    {
      "cell_type": "code",
      "metadata": {
        "colab": {
          "base_uri": "https://localhost:8080/"
        },
        "id": "bDiNakgbuC8x",
        "outputId": "3a233259-7a0a-4b68-cafd-c6733709c1a2"
      },
      "source": [
        "mean = np.mean(images, axis=0)\n",
        "mean.shape"
      ],
      "execution_count": 13,
      "outputs": [
        {
          "output_type": "execute_result",
          "data": {
            "text/plain": [
              "(120000,)"
            ]
          },
          "metadata": {
            "tags": []
          },
          "execution_count": 13
        }
      ]
    },
    {
      "cell_type": "markdown",
      "metadata": {
        "id": "RPvPD3R5qweY"
      },
      "source": [
        "normalize and apply incremental pca on every 1000 batch of data due to our ram problem"
      ]
    },
    {
      "cell_type": "code",
      "metadata": {
        "colab": {
          "base_uri": "https://localhost:8080/"
        },
        "id": "DrEEf1E6cXq2",
        "outputId": "668a3be2-a69b-4f74-d654-5b17f795b1a3"
      },
      "source": [
        "i = 0\n",
        "size = images.shape[0]\n",
        "flag = True\n",
        "pca_img = []\n",
        "while flag:\n",
        "  counter = i *1000\n",
        "  counter2 = (i+1) * 1000\n",
        "  if counter2 < size:\n",
        "    sample = images[counter:counter2,]\n",
        "    std = np.std(sample, axis=0)+0.000001\n",
        "    X_scaled= (sample - mean)/ std\n",
        "    transformer = IncrementalPCA(n_components=128, batch_size=128)\n",
        "    transformer.fit(X_scaled)\n",
        "    pca_img.append(transformer.transform(X_scaled))\n",
        "  else:\n",
        "    sample = images[counter:counter2,]\n",
        "    std = np.std(sample, axis=0)+0.000001\n",
        "    X_scaled= (sample - mean)/ std\n",
        "    transformer = IncrementalPCA(n_components=128, batch_size=128)\n",
        "    transformer.fit(X_scaled)\n",
        "    pca_img.append(transformer.transform(X_scaled))\n",
        "    flag= False\n",
        "  i+=1"
      ],
      "execution_count": 14,
      "outputs": [
        {
          "output_type": "stream",
          "text": [
            "/usr/local/lib/python3.7/dist-packages/sklearn/decomposition/_incremental_pca.py:309: RuntimeWarning: Mean of empty slice.\n",
            "  explained_variance[self.n_components_:].mean()\n",
            "/usr/local/lib/python3.7/dist-packages/numpy/core/_methods.py:170: RuntimeWarning: invalid value encountered in double_scalars\n",
            "  ret = ret.dtype.type(ret / rcount)\n",
            "/usr/local/lib/python3.7/dist-packages/sklearn/decomposition/_incremental_pca.py:309: RuntimeWarning: Mean of empty slice.\n",
            "  explained_variance[self.n_components_:].mean()\n",
            "/usr/local/lib/python3.7/dist-packages/numpy/core/_methods.py:170: RuntimeWarning: invalid value encountered in double_scalars\n",
            "  ret = ret.dtype.type(ret / rcount)\n",
            "/usr/local/lib/python3.7/dist-packages/sklearn/decomposition/_incremental_pca.py:309: RuntimeWarning: Mean of empty slice.\n",
            "  explained_variance[self.n_components_:].mean()\n",
            "/usr/local/lib/python3.7/dist-packages/numpy/core/_methods.py:170: RuntimeWarning: invalid value encountered in double_scalars\n",
            "  ret = ret.dtype.type(ret / rcount)\n",
            "/usr/local/lib/python3.7/dist-packages/sklearn/decomposition/_incremental_pca.py:309: RuntimeWarning: Mean of empty slice.\n",
            "  explained_variance[self.n_components_:].mean()\n",
            "/usr/local/lib/python3.7/dist-packages/numpy/core/_methods.py:170: RuntimeWarning: invalid value encountered in double_scalars\n",
            "  ret = ret.dtype.type(ret / rcount)\n",
            "/usr/local/lib/python3.7/dist-packages/sklearn/decomposition/_incremental_pca.py:309: RuntimeWarning: Mean of empty slice.\n",
            "  explained_variance[self.n_components_:].mean()\n",
            "/usr/local/lib/python3.7/dist-packages/numpy/core/_methods.py:170: RuntimeWarning: invalid value encountered in double_scalars\n",
            "  ret = ret.dtype.type(ret / rcount)\n",
            "/usr/local/lib/python3.7/dist-packages/sklearn/decomposition/_incremental_pca.py:309: RuntimeWarning: Mean of empty slice.\n",
            "  explained_variance[self.n_components_:].mean()\n",
            "/usr/local/lib/python3.7/dist-packages/numpy/core/_methods.py:170: RuntimeWarning: invalid value encountered in double_scalars\n",
            "  ret = ret.dtype.type(ret / rcount)\n",
            "/usr/local/lib/python3.7/dist-packages/sklearn/decomposition/_incremental_pca.py:309: RuntimeWarning: Mean of empty slice.\n",
            "  explained_variance[self.n_components_:].mean()\n",
            "/usr/local/lib/python3.7/dist-packages/numpy/core/_methods.py:170: RuntimeWarning: invalid value encountered in double_scalars\n",
            "  ret = ret.dtype.type(ret / rcount)\n",
            "/usr/local/lib/python3.7/dist-packages/sklearn/decomposition/_incremental_pca.py:309: RuntimeWarning: Mean of empty slice.\n",
            "  explained_variance[self.n_components_:].mean()\n",
            "/usr/local/lib/python3.7/dist-packages/numpy/core/_methods.py:170: RuntimeWarning: invalid value encountered in double_scalars\n",
            "  ret = ret.dtype.type(ret / rcount)\n",
            "/usr/local/lib/python3.7/dist-packages/sklearn/decomposition/_incremental_pca.py:309: RuntimeWarning: Mean of empty slice.\n",
            "  explained_variance[self.n_components_:].mean()\n",
            "/usr/local/lib/python3.7/dist-packages/numpy/core/_methods.py:170: RuntimeWarning: invalid value encountered in double_scalars\n",
            "  ret = ret.dtype.type(ret / rcount)\n",
            "/usr/local/lib/python3.7/dist-packages/sklearn/decomposition/_incremental_pca.py:309: RuntimeWarning: Mean of empty slice.\n",
            "  explained_variance[self.n_components_:].mean()\n",
            "/usr/local/lib/python3.7/dist-packages/numpy/core/_methods.py:170: RuntimeWarning: invalid value encountered in double_scalars\n",
            "  ret = ret.dtype.type(ret / rcount)\n",
            "/usr/local/lib/python3.7/dist-packages/sklearn/decomposition/_incremental_pca.py:309: RuntimeWarning: Mean of empty slice.\n",
            "  explained_variance[self.n_components_:].mean()\n",
            "/usr/local/lib/python3.7/dist-packages/numpy/core/_methods.py:170: RuntimeWarning: invalid value encountered in double_scalars\n",
            "  ret = ret.dtype.type(ret / rcount)\n",
            "/usr/local/lib/python3.7/dist-packages/sklearn/decomposition/_incremental_pca.py:309: RuntimeWarning: Mean of empty slice.\n",
            "  explained_variance[self.n_components_:].mean()\n",
            "/usr/local/lib/python3.7/dist-packages/numpy/core/_methods.py:170: RuntimeWarning: invalid value encountered in double_scalars\n",
            "  ret = ret.dtype.type(ret / rcount)\n",
            "/usr/local/lib/python3.7/dist-packages/sklearn/decomposition/_incremental_pca.py:309: RuntimeWarning: Mean of empty slice.\n",
            "  explained_variance[self.n_components_:].mean()\n",
            "/usr/local/lib/python3.7/dist-packages/numpy/core/_methods.py:170: RuntimeWarning: invalid value encountered in double_scalars\n",
            "  ret = ret.dtype.type(ret / rcount)\n",
            "/usr/local/lib/python3.7/dist-packages/sklearn/decomposition/_incremental_pca.py:309: RuntimeWarning: Mean of empty slice.\n",
            "  explained_variance[self.n_components_:].mean()\n",
            "/usr/local/lib/python3.7/dist-packages/numpy/core/_methods.py:170: RuntimeWarning: invalid value encountered in double_scalars\n",
            "  ret = ret.dtype.type(ret / rcount)\n",
            "/usr/local/lib/python3.7/dist-packages/sklearn/decomposition/_incremental_pca.py:309: RuntimeWarning: Mean of empty slice.\n",
            "  explained_variance[self.n_components_:].mean()\n",
            "/usr/local/lib/python3.7/dist-packages/numpy/core/_methods.py:170: RuntimeWarning: invalid value encountered in double_scalars\n",
            "  ret = ret.dtype.type(ret / rcount)\n",
            "/usr/local/lib/python3.7/dist-packages/sklearn/decomposition/_incremental_pca.py:309: RuntimeWarning: Mean of empty slice.\n",
            "  explained_variance[self.n_components_:].mean()\n",
            "/usr/local/lib/python3.7/dist-packages/numpy/core/_methods.py:170: RuntimeWarning: invalid value encountered in double_scalars\n",
            "  ret = ret.dtype.type(ret / rcount)\n",
            "/usr/local/lib/python3.7/dist-packages/sklearn/decomposition/_incremental_pca.py:309: RuntimeWarning: Mean of empty slice.\n",
            "  explained_variance[self.n_components_:].mean()\n",
            "/usr/local/lib/python3.7/dist-packages/numpy/core/_methods.py:170: RuntimeWarning: invalid value encountered in double_scalars\n",
            "  ret = ret.dtype.type(ret / rcount)\n",
            "/usr/local/lib/python3.7/dist-packages/sklearn/decomposition/_incremental_pca.py:309: RuntimeWarning: Mean of empty slice.\n",
            "  explained_variance[self.n_components_:].mean()\n",
            "/usr/local/lib/python3.7/dist-packages/numpy/core/_methods.py:170: RuntimeWarning: invalid value encountered in double_scalars\n",
            "  ret = ret.dtype.type(ret / rcount)\n",
            "/usr/local/lib/python3.7/dist-packages/sklearn/decomposition/_incremental_pca.py:309: RuntimeWarning: Mean of empty slice.\n",
            "  explained_variance[self.n_components_:].mean()\n",
            "/usr/local/lib/python3.7/dist-packages/numpy/core/_methods.py:170: RuntimeWarning: invalid value encountered in double_scalars\n",
            "  ret = ret.dtype.type(ret / rcount)\n",
            "/usr/local/lib/python3.7/dist-packages/sklearn/decomposition/_incremental_pca.py:309: RuntimeWarning: Mean of empty slice.\n",
            "  explained_variance[self.n_components_:].mean()\n",
            "/usr/local/lib/python3.7/dist-packages/numpy/core/_methods.py:170: RuntimeWarning: invalid value encountered in double_scalars\n",
            "  ret = ret.dtype.type(ret / rcount)\n",
            "/usr/local/lib/python3.7/dist-packages/sklearn/decomposition/_incremental_pca.py:309: RuntimeWarning: Mean of empty slice.\n",
            "  explained_variance[self.n_components_:].mean()\n",
            "/usr/local/lib/python3.7/dist-packages/numpy/core/_methods.py:170: RuntimeWarning: invalid value encountered in double_scalars\n",
            "  ret = ret.dtype.type(ret / rcount)\n",
            "/usr/local/lib/python3.7/dist-packages/sklearn/decomposition/_incremental_pca.py:309: RuntimeWarning: Mean of empty slice.\n",
            "  explained_variance[self.n_components_:].mean()\n",
            "/usr/local/lib/python3.7/dist-packages/numpy/core/_methods.py:170: RuntimeWarning: invalid value encountered in double_scalars\n",
            "  ret = ret.dtype.type(ret / rcount)\n",
            "/usr/local/lib/python3.7/dist-packages/sklearn/decomposition/_incremental_pca.py:309: RuntimeWarning: Mean of empty slice.\n",
            "  explained_variance[self.n_components_:].mean()\n",
            "/usr/local/lib/python3.7/dist-packages/numpy/core/_methods.py:170: RuntimeWarning: invalid value encountered in double_scalars\n",
            "  ret = ret.dtype.type(ret / rcount)\n",
            "/usr/local/lib/python3.7/dist-packages/sklearn/decomposition/_incremental_pca.py:309: RuntimeWarning: Mean of empty slice.\n",
            "  explained_variance[self.n_components_:].mean()\n",
            "/usr/local/lib/python3.7/dist-packages/numpy/core/_methods.py:170: RuntimeWarning: invalid value encountered in double_scalars\n",
            "  ret = ret.dtype.type(ret / rcount)\n"
          ],
          "name": "stderr"
        }
      ]
    },
    {
      "cell_type": "code",
      "metadata": {
        "id": "EnOd_5L2erB_"
      },
      "source": [
        "reduced_images = np.concatenate( pca_img, axis=0 )"
      ],
      "execution_count": 15,
      "outputs": []
    },
    {
      "cell_type": "markdown",
      "metadata": {
        "id": "ZkVbHihErFW_"
      },
      "source": [
        "we can see new shape of data"
      ]
    },
    {
      "cell_type": "code",
      "metadata": {
        "colab": {
          "base_uri": "https://localhost:8080/"
        },
        "id": "2Eo7k-Cpjw0N",
        "outputId": "4cdb3d88-dd08-4447-e3e4-43ebdb36e094"
      },
      "source": [
        "reduced_images.shape"
      ],
      "execution_count": 16,
      "outputs": [
        {
          "output_type": "execute_result",
          "data": {
            "text/plain": [
              "(23705, 128)"
            ]
          },
          "metadata": {
            "tags": []
          },
          "execution_count": 16
        }
      ]
    },
    {
      "cell_type": "markdown",
      "metadata": {
        "id": "_sG2KFwVrX0f"
      },
      "source": [
        "deleting other lists to free their allocated RAM "
      ]
    },
    {
      "cell_type": "code",
      "metadata": {
        "id": "DwK04vHPbcM_"
      },
      "source": [
        "del only_files\n",
        "del pca_img\n",
        "del images\n",
        "del image_filenames"
      ],
      "execution_count": 18,
      "outputs": []
    },
    {
      "cell_type": "markdown",
      "metadata": {
        "id": "wW5NjssOrjZl"
      },
      "source": [
        "Creating a dataframe from images and age, gender, race of each image"
      ]
    },
    {
      "cell_type": "code",
      "metadata": {
        "id": "p1skM46yeMF-"
      },
      "source": [
        "data = [[reduced_images[i],int(labels['age'][i]), int(labels['gender'][i]), int(labels['race'][i])] for i in range(len(labels['race']))]"
      ],
      "execution_count": 19,
      "outputs": []
    },
    {
      "cell_type": "code",
      "metadata": {
        "id": "p0GsZYg7iRee"
      },
      "source": [
        "import pandas as pd\n",
        "df = pd.DataFrame(data,columns=['image','age','gender','race'])"
      ],
      "execution_count": 20,
      "outputs": []
    },
    {
      "cell_type": "code",
      "metadata": {
        "colab": {
          "base_uri": "https://localhost:8080/",
          "height": 419
        },
        "id": "Val3CvwKiyLF",
        "outputId": "a6bae455-35ad-4be6-9b9c-eb324bd77510"
      },
      "source": [
        "df"
      ],
      "execution_count": 21,
      "outputs": [
        {
          "output_type": "execute_result",
          "data": {
            "text/html": [
              "<div>\n",
              "<style scoped>\n",
              "    .dataframe tbody tr th:only-of-type {\n",
              "        vertical-align: middle;\n",
              "    }\n",
              "\n",
              "    .dataframe tbody tr th {\n",
              "        vertical-align: top;\n",
              "    }\n",
              "\n",
              "    .dataframe thead th {\n",
              "        text-align: right;\n",
              "    }\n",
              "</style>\n",
              "<table border=\"1\" class=\"dataframe\">\n",
              "  <thead>\n",
              "    <tr style=\"text-align: right;\">\n",
              "      <th></th>\n",
              "      <th>image</th>\n",
              "      <th>age</th>\n",
              "      <th>gender</th>\n",
              "      <th>race</th>\n",
              "    </tr>\n",
              "  </thead>\n",
              "  <tbody>\n",
              "    <tr>\n",
              "      <th>0</th>\n",
              "      <td>[3.9049962373397547, -169.9639223857324, -161....</td>\n",
              "      <td>55</td>\n",
              "      <td>0</td>\n",
              "      <td>0</td>\n",
              "    </tr>\n",
              "    <tr>\n",
              "      <th>1</th>\n",
              "      <td>[128.11246674485804, 68.91663276622849, 10.678...</td>\n",
              "      <td>61</td>\n",
              "      <td>0</td>\n",
              "      <td>2</td>\n",
              "    </tr>\n",
              "    <tr>\n",
              "      <th>2</th>\n",
              "      <td>[-248.4078977947249, 63.850692010238596, 14.89...</td>\n",
              "      <td>14</td>\n",
              "      <td>0</td>\n",
              "      <td>1</td>\n",
              "    </tr>\n",
              "    <tr>\n",
              "      <th>3</th>\n",
              "      <td>[-165.9789550619612, -56.90550930500096, 3.066...</td>\n",
              "      <td>28</td>\n",
              "      <td>0</td>\n",
              "      <td>1</td>\n",
              "    </tr>\n",
              "    <tr>\n",
              "      <th>4</th>\n",
              "      <td>[51.491064150027285, -20.531294240825783, -74....</td>\n",
              "      <td>16</td>\n",
              "      <td>0</td>\n",
              "      <td>1</td>\n",
              "    </tr>\n",
              "    <tr>\n",
              "      <th>...</th>\n",
              "      <td>...</td>\n",
              "      <td>...</td>\n",
              "      <td>...</td>\n",
              "      <td>...</td>\n",
              "    </tr>\n",
              "    <tr>\n",
              "      <th>23700</th>\n",
              "      <td>[133.54770646492227, -62.55092618855375, 78.65...</td>\n",
              "      <td>54</td>\n",
              "      <td>0</td>\n",
              "      <td>0</td>\n",
              "    </tr>\n",
              "    <tr>\n",
              "      <th>23701</th>\n",
              "      <td>[-162.13737067342757, -138.4844654240164, 46.6...</td>\n",
              "      <td>29</td>\n",
              "      <td>0</td>\n",
              "      <td>2</td>\n",
              "    </tr>\n",
              "    <tr>\n",
              "      <th>23702</th>\n",
              "      <td>[70.2327611192442, -124.65542585861337, 4.8689...</td>\n",
              "      <td>5</td>\n",
              "      <td>1</td>\n",
              "      <td>3</td>\n",
              "    </tr>\n",
              "    <tr>\n",
              "      <th>23703</th>\n",
              "      <td>[-272.2732956186549, 97.56542147158832, -105.4...</td>\n",
              "      <td>21</td>\n",
              "      <td>1</td>\n",
              "      <td>3</td>\n",
              "    </tr>\n",
              "    <tr>\n",
              "      <th>23704</th>\n",
              "      <td>[-23.365250513796777, 42.801536300554055, 20.9...</td>\n",
              "      <td>28</td>\n",
              "      <td>0</td>\n",
              "      <td>0</td>\n",
              "    </tr>\n",
              "  </tbody>\n",
              "</table>\n",
              "<p>23705 rows × 4 columns</p>\n",
              "</div>"
            ],
            "text/plain": [
              "                                                   image  age  gender  race\n",
              "0      [3.9049962373397547, -169.9639223857324, -161....   55       0     0\n",
              "1      [128.11246674485804, 68.91663276622849, 10.678...   61       0     2\n",
              "2      [-248.4078977947249, 63.850692010238596, 14.89...   14       0     1\n",
              "3      [-165.9789550619612, -56.90550930500096, 3.066...   28       0     1\n",
              "4      [51.491064150027285, -20.531294240825783, -74....   16       0     1\n",
              "...                                                  ...  ...     ...   ...\n",
              "23700  [133.54770646492227, -62.55092618855375, 78.65...   54       0     0\n",
              "23701  [-162.13737067342757, -138.4844654240164, 46.6...   29       0     2\n",
              "23702  [70.2327611192442, -124.65542585861337, 4.8689...    5       1     3\n",
              "23703  [-272.2732956186549, 97.56542147158832, -105.4...   21       1     3\n",
              "23704  [-23.365250513796777, 42.801536300554055, 20.9...   28       0     0\n",
              "\n",
              "[23705 rows x 4 columns]"
            ]
          },
          "metadata": {
            "tags": []
          },
          "execution_count": 21
        }
      ]
    },
    {
      "cell_type": "markdown",
      "metadata": {
        "id": "msdv19szr20Y"
      },
      "source": [
        "# Part 1: regression "
      ]
    },
    {
      "cell_type": "code",
      "metadata": {
        "id": "iGHhSduQYIP0"
      },
      "source": [
        "X = np.array([np.array(i).flatten() for i in df['image'].values])"
      ],
      "execution_count": 289,
      "outputs": []
    },
    {
      "cell_type": "code",
      "metadata": {
        "id": "_-gba69l_y9k"
      },
      "source": [
        "y = np.array([np.array(i).flatten() for i in df['age'].values])"
      ],
      "execution_count": 290,
      "outputs": []
    },
    {
      "cell_type": "code",
      "metadata": {
        "colab": {
          "base_uri": "https://localhost:8080/"
        },
        "id": "i9KRZbgWZus-",
        "outputId": "24682d09-b48c-432c-f3c1-9990716f4d0d"
      },
      "source": [
        "X.shape"
      ],
      "execution_count": 291,
      "outputs": [
        {
          "output_type": "execute_result",
          "data": {
            "text/plain": [
              "(23705, 128)"
            ]
          },
          "metadata": {
            "tags": []
          },
          "execution_count": 291
        }
      ]
    },
    {
      "cell_type": "markdown",
      "metadata": {
        "id": "MVR9zvvSuE3R"
      },
      "source": [
        "train test split"
      ]
    },
    {
      "cell_type": "code",
      "metadata": {
        "id": "X-xisTRG_oth"
      },
      "source": [
        "from sklearn.model_selection import train_test_split\n",
        "X_train, X_test, y_train, y_test = train_test_split(\n",
        "    X, y, test_size=0.24, random_state=42)"
      ],
      "execution_count": 292,
      "outputs": []
    },
    {
      "cell_type": "code",
      "metadata": {
        "colab": {
          "base_uri": "https://localhost:8080/"
        },
        "id": "qaz1ZHCmuPYu",
        "outputId": "ca284950-053b-4c63-f2dd-b01d390698f9"
      },
      "source": [
        "X_train.shape"
      ],
      "execution_count": 293,
      "outputs": [
        {
          "output_type": "execute_result",
          "data": {
            "text/plain": [
              "(18015, 128)"
            ]
          },
          "metadata": {
            "tags": []
          },
          "execution_count": 293
        }
      ]
    },
    {
      "cell_type": "markdown",
      "metadata": {
        "id": "JZXX-KMqysQC"
      },
      "source": [
        "train validation split"
      ]
    },
    {
      "cell_type": "code",
      "metadata": {
        "id": "CDJ21EW8uJGC"
      },
      "source": [
        "X_train, X_val, y_train, y_val = train_test_split(\n",
        "    X_train, y_train, test_size=0.1, random_state=42)"
      ],
      "execution_count": 294,
      "outputs": []
    },
    {
      "cell_type": "code",
      "metadata": {
        "colab": {
          "base_uri": "https://localhost:8080/"
        },
        "id": "A-N5DFCrupf-",
        "outputId": "db66cd41-758e-4877-88d9-e3c117a90d9c"
      },
      "source": [
        "X_train.shape"
      ],
      "execution_count": 295,
      "outputs": [
        {
          "output_type": "execute_result",
          "data": {
            "text/plain": [
              "(16213, 128)"
            ]
          },
          "metadata": {
            "tags": []
          },
          "execution_count": 295
        }
      ]
    },
    {
      "cell_type": "code",
      "metadata": {
        "id": "znVVVOT0_ooa"
      },
      "source": [
        "mean = np.mean(X_train, axis=0)\n",
        "std = np.std(X_train, axis=0)+0.000001"
      ],
      "execution_count": 296,
      "outputs": []
    },
    {
      "cell_type": "code",
      "metadata": {
        "id": "MjhYItKd_ojh"
      },
      "source": [
        "X_train = (X_train - mean) / std\n",
        "X_val = (X_val- mean) / std\n",
        "X_test = (X_test - mean) /std"
      ],
      "execution_count": 297,
      "outputs": []
    },
    {
      "cell_type": "markdown",
      "metadata": {
        "id": "A-rU7gpq3WLb"
      },
      "source": [
        "----------------------------------------------\n"
      ]
    },
    {
      "cell_type": "markdown",
      "metadata": {
        "id": "BqejFyqPGw5K"
      },
      "source": [
        "## Implementing neural net"
      ]
    },
    {
      "cell_type": "markdown",
      "metadata": {
        "id": "cx5T33OPsep2"
      },
      "source": [
        "### Dense (fully connected) layer"
      ]
    },
    {
      "cell_type": "code",
      "metadata": {
        "id": "MQsGZv26FXtT"
      },
      "source": [
        "# Dense layer\n",
        "class Dense :\n",
        "# Layer initialization\n",
        "  def __init__ ( self , n_inputs , n_neurons,zero_weights = False ):\n",
        "    if zero_weights:\n",
        "      # Initialize weights with zeros\n",
        "      self.weights =  np.zeros((n_inputs, n_neurons))\n",
        "    else:\n",
        "      # Initialize weights with random numbers from distribution with mean=0 and std=1\n",
        "      self.weights =0.001 * np.random.randn(n_inputs,n_neurons)\n",
        "    # Initialize biases with zeros\n",
        "    self.biases = np.zeros(( 1 , n_neurons))\n",
        "\n",
        "  # Forward pass\n",
        "  def forward ( self , inputs ):\n",
        "    # Remember input values\n",
        "    self.inputs = inputs\n",
        "    # Calculate output values from inputs, weights and biases\n",
        "    self.output = np.dot(inputs, self.weights) + self.biases\n",
        "\n",
        "  # Backward pass\n",
        "  def backward ( self , dvalues ):\n",
        "    # Gradients on parameters for updating in optimzer\n",
        "    self.dweights = np.dot(self.inputs.T, dvalues)\n",
        "    self.dbiases = np.sum(dvalues, axis = 0 , keepdims = True )\n",
        "    self.dinputs = np.dot(dvalues, self.weights.T)"
      ],
      "execution_count": 136,
      "outputs": []
    },
    {
      "cell_type": "markdown",
      "metadata": {
        "id": "YDBa5f0usqGo"
      },
      "source": [
        "### Leaky ReLU activation Function"
      ]
    },
    {
      "cell_type": "code",
      "metadata": {
        "id": "F4Jc1ATUsJ-h"
      },
      "source": [
        "class Activation_Leaky_ReLU :\n",
        "\n",
        "  # Forward pass\n",
        "  def forward ( self , inputs ):\n",
        "    self.inputs = inputs\n",
        "    self.output = np.maximum( 0.1 * inputs , inputs) # Leaky_ReLU(x) = Max(0.1x , x)\n",
        "\n",
        "  # Backward pass\n",
        "  def backward ( self , dvalues ):\n",
        "    self.dinputs = dvalues.copy()\n",
        "    # if input is less than zero our local gradient is 0.1 so we multiple it to our gradient from last layer\n",
        "    #self.dinputs = np.where(self.output > 0, self.dinputs, self.dinputs * 0.01) \n",
        "    for i in range(len(self.dinputs)):\n",
        "      if self.output[i].any() <= 0:\n",
        "        self.dinputs[i] = np.where(self.output[i] > 0, self.dinputs[i], self.dinputs[i] * 0.01) "
      ],
      "execution_count": 167,
      "outputs": []
    },
    {
      "cell_type": "markdown",
      "metadata": {
        "id": "MTLuw091sxkA"
      },
      "source": [
        "### SGD optimizer with momentum"
      ]
    },
    {
      "cell_type": "code",
      "metadata": {
        "id": "x6HZFhohGqxl"
      },
      "source": [
        "# SGD optimizer\n",
        "class Optimizer_SGD :\n",
        "# Initialize optimizer parametes\n",
        "  def __init__ ( self , learning_rate = 1. , decay = 0. , momentum = 0. ):\n",
        "    self.learning_rate = learning_rate\n",
        "    self.current_learning_rate = learning_rate\n",
        "    self.decay = decay\n",
        "    self.iterations = 0\n",
        "    self.momentum = momentum\n",
        "  # this function helps to decay learning rate (Time-Based Decay)\n",
        "  def decay_learning_rate ( self ):\n",
        "    if self.decay:\n",
        "      self.current_learning_rate = self.learning_rate * ( 1. / ( 1. + self.decay * self.iterations))\n",
        "\n",
        "  # Update parameters\n",
        "  def update ( self , layer ):\n",
        "    # If we use momentum\n",
        "    if self.momentum:\n",
        "      # If layer does not contain momentum arrays, create them filled with zeros\n",
        "      if not hasattr (layer, 'weight_momentums' ):\n",
        "        layer.weight_momentums = np.zeros_like(layer.weights)\n",
        "        layer.bias_momentums = np.zeros_like(layer.biases)\n",
        "      # Build weight updates with momentum \n",
        "      weight_updates = self.momentum * layer.weight_momentums - self.current_learning_rate * layer.dweights\n",
        "      layer.weight_momentums = weight_updates\n",
        "      # Build bias updates with momentum\n",
        "      bias_updates = self.momentum * layer.bias_momentums - self.current_learning_rate * layer.dbiases\n",
        "      layer.bias_momentums = bias_updates\n",
        "    # SGD updates without momentum\n",
        "    else :\n",
        "      weight_updates = - self.current_learning_rate * layer.dweights\n",
        "      bias_updates = - self.current_learning_rate * layer.dbiases\n",
        "    \n",
        "    # Update weights and biases\n",
        "    layer.weights += weight_updates\n",
        "    layer.biases += bias_updates\n",
        "\n",
        "  # to plus iterations\n",
        "  def plus_iteration ( self ):\n",
        "    self.iterations += 1"
      ],
      "execution_count": 138,
      "outputs": []
    },
    {
      "cell_type": "markdown",
      "metadata": {
        "id": "pjM5tnSCs8EP"
      },
      "source": [
        "### Loss function"
      ]
    },
    {
      "cell_type": "code",
      "metadata": {
        "id": "5x52sxU-Hvmt"
      },
      "source": [
        "# Common loss class\n",
        "class Loss :\n",
        "\n",
        "  def calculate ( self , output , y ):\n",
        "    # Calculate sample losses\n",
        "    sample_losses = self.forward(output, y)\n",
        "    data_loss = np.mean(sample_losses)# mean loss\n",
        "    return data_loss"
      ],
      "execution_count": 139,
      "outputs": []
    },
    {
      "cell_type": "markdown",
      "metadata": {
        "id": "WxhIqcI6s_Ec"
      },
      "source": [
        "### L2 (mean squared error) loss function"
      ]
    },
    {
      "cell_type": "code",
      "metadata": {
        "id": "LYMxuEdQIjw2"
      },
      "source": [
        "# L2 loss\n",
        "class Loss_L2 ( Loss ): \n",
        "  # Forward pass\n",
        "  def forward ( self , y_pred , y_true ):\n",
        "    # Calculate loss\n",
        "    sample_losses = np.mean((y_true - y_pred) ** 2 )\n",
        "    return sample_losses\n",
        "\n",
        "# Backward pass\n",
        "  def backward ( self , dvalues , y_true ):\n",
        "    # Number of samples\n",
        "    sample_len = len (dvalues)\n",
        "    # Number of outputs in every sample\n",
        "    outputs = len (dvalues[ 0 ])\n",
        "    # Gradient on values\n",
        "    self.dinputs = - 2 * (y_true - dvalues) / outputs\n",
        "    # Normalize gradient\n",
        "    self.dinputs = self.dinputs / sample_len"
      ],
      "execution_count": 140,
      "outputs": []
    },
    {
      "cell_type": "markdown",
      "metadata": {
        "id": "QLvWbF-hXWZQ"
      },
      "source": [
        "## part 1_A : Difference between initializing weights\n",
        "in this section we first initialize weights zero and next time we initialize weights with random numbers from normal distribution with mean = 0 and std = 1 and at the end plot results\n"
      ]
    },
    {
      "cell_type": "markdown",
      "metadata": {
        "id": "KEo0MEekuKet"
      },
      "source": [
        "validation function for validation after each train epoch"
      ]
    },
    {
      "cell_type": "code",
      "metadata": {
        "id": "BW54PYRUY6Dh"
      },
      "source": [
        "def validation(X_train,y_train,batch):\n",
        "  validation_loss = []\n",
        "  batch_size = batch\n",
        "  data_size = X_train.shape[ 0 ]\n",
        "  steps = data_size // batch_size\n",
        "  if steps * batch_size < data_size:\n",
        "    steps += 1\n",
        "  for step in range (steps):\n",
        "    batch_X = X_train[step * batch_size:(step + 1 ) * batch_size]\n",
        "    batch_y = y_train[step * batch_size:(step + 1 ) * batch_size]\n",
        "    dense1.forward(batch_X)\n",
        "    activation1.forward(dense1.output)\n",
        "    dense2.forward(activation1.output)\n",
        "    activation2.forward(dense2.output)\n",
        "    dense3.forward(activation2.output)\n",
        "    activation3.forward(dense3.output)\n",
        "    # Calculate the data loss\n",
        "    predictions = activation3.output\n",
        "    loss = loss_function.calculate(predictions, batch_y)\n",
        "    validation_loss.append(loss)\n",
        "  return np.mean(validation_loss)\n",
        "    "
      ],
      "execution_count": 248,
      "outputs": []
    },
    {
      "cell_type": "markdown",
      "metadata": {
        "id": "R9Y8HczfuS0s"
      },
      "source": [
        "train function based on our network initialization"
      ]
    },
    {
      "cell_type": "code",
      "metadata": {
        "id": "qrYJ3o5s0Zcw"
      },
      "source": [
        "def train(X_train,y_train,X_val, y_val,epoch, batch):\n",
        "  train_loss = []\n",
        "  validation_loss=[]\n",
        "  epochs = epoch\n",
        "  batch_size = batch\n",
        "  data_size = X_train.shape[ 0 ]\n",
        "  steps = data_size // batch_size\n",
        "  if steps * batch_size < data_size:\n",
        "    steps += 1\n",
        "  # Train in epochs\n",
        "  for epoch in range ( epochs ):\n",
        "    epoch_loss = []\n",
        "    # Train in batches\n",
        "    for step in range (steps):\n",
        "      batch_X = X_train[step * batch_size:(step + 1 ) * batch_size]\n",
        "      batch_y = y_train[step * batch_size:(step + 1 ) * batch_size]\n",
        "      # Perform a forward pass of our training data through our neural net layers\n",
        "      dense1.forward(batch_X)\n",
        "      activation1.forward(dense1.output)\n",
        "      dense2.forward(activation1.output)\n",
        "      activation2.forward(dense2.output)\n",
        "      dense3.forward(activation2.output)\n",
        "      activation3.forward(dense3.output)\n",
        "      # Calculate the data loss\n",
        "      predictions = activation3.output\n",
        "      loss = loss_function.calculate(predictions, batch_y)\n",
        "      epoch_loss.append(loss)\n",
        "      # Backward pass\n",
        "      loss_function.backward(activation3.output, batch_y)\n",
        "      activation3.backward(loss_function.dinputs)\n",
        "      dense3.backward(activation3.dinputs)\n",
        "      activation2.backward(dense3.dinputs)\n",
        "      dense2.backward(activation2.dinputs)\n",
        "      activation1.backward(dense2.dinputs)\n",
        "      dense1.backward(activation1.dinputs)\n",
        "      # Update weights and biases and decay learning rate\n",
        "      optimizer.update(dense1)\n",
        "      optimizer.update(dense2)\n",
        "      optimizer.update(dense3)\n",
        "    e_loss = np.sum(epoch_loss)/steps\n",
        "    train_loss.append(e_loss)\n",
        "    # validation after epoch\n",
        "    val_loss = validation(X_val,y_val,batch)\n",
        "    validation_loss.append(val_loss)\n",
        "    optimizer.decay_learning_rate()\n",
        "    optimizer.plus_iteration()\n",
        "\n",
        "    # print info of each epoch\n",
        "    if not epoch % 10 :\n",
        "      print ( f'epoch: {epoch} , ' +\n",
        "      f'train loss: {e_loss} '+\n",
        "      f'validation loss: {val_loss} '+\n",
        "      f'lr: {optimizer.current_learning_rate} ' )\n",
        "\n",
        "  return train_loss, validation_loss"
      ],
      "execution_count": 257,
      "outputs": []
    },
    {
      "cell_type": "markdown",
      "metadata": {
        "id": "iTD8jEvvudKr"
      },
      "source": [
        "### network initialization with zero weights"
      ]
    },
    {
      "cell_type": "code",
      "metadata": {
        "id": "4GLG5DFMYrQ2"
      },
      "source": [
        "# Dense layer with 128 input and 264 output values with zero weights\n",
        "dense1 = Dense( 128 , 264 ,zero_weights=True)\n",
        "# Leaky ReLU activation:\n",
        "activation1 = Activation_Leaky_ReLU()\n",
        "# second Dense layer with 264 input and 128 output values with zero weights\n",
        "dense2 = Dense( 264 , 128, zero_weights=True)\n",
        "# Leaky ReLU activation:\n",
        "activation2 = Activation_Leaky_ReLU()\n",
        "# third Dense layer with 128 input features and 1 output value\n",
        "dense3 = Dense( 128 , 1, zero_weights=True )\n",
        "#Leaky ReLU activation:\n",
        "activation3 = Activation_Leaky_ReLU()\n",
        "# l2 loss function\n",
        "loss_function = Loss_L2()\n",
        "# SGD optimizer with momentum\n",
        "optimizer = Optimizer_SGD( learning_rate = 0.001 , decay = 1e-8 , momentum=0.9)"
      ],
      "execution_count": 258,
      "outputs": []
    },
    {
      "cell_type": "code",
      "metadata": {
        "colab": {
          "base_uri": "https://localhost:8080/"
        },
        "id": "V8LtszYBaQxy",
        "outputId": "6ffd7450-584e-4a0e-8e46-5cf7b4b15e9f"
      },
      "source": [
        "train_loss, validation_loss = train(X_train, y_train, X_val, y_val, 100, 128)"
      ],
      "execution_count": 259,
      "outputs": [
        {
          "output_type": "stream",
          "text": [
            "epoch: 0 , train loss: 657.1930918993169 validation loss: 430.1071097480042 lr: 0.001 \n",
            "epoch: 10 , train loss: 389.5786410260012 validation loss: 427.1080123454993 lr: 0.00099999990000001 \n",
            "epoch: 20 , train loss: 389.57864102036086 validation loss: 427.1080123452286 lr: 0.00099999980000004 \n",
            "epoch: 30 , train loss: 389.5786410147205 validation loss: 427.108012344958 lr: 0.0009999997000000901 \n",
            "epoch: 40 , train loss: 389.57864100908023 validation loss: 427.10801234468755 lr: 0.00099999960000016 \n",
            "epoch: 50 , train loss: 389.57864100343994 validation loss: 427.108012344417 lr: 0.0009999995000002499 \n",
            "epoch: 60 , train loss: 389.57864099779965 validation loss: 427.1080123441464 lr: 0.0009999994000003602 \n",
            "epoch: 70 , train loss: 389.5786409921592 validation loss: 427.1080123438758 lr: 0.00099999930000049 \n",
            "epoch: 80 , train loss: 389.57864098651885 validation loss: 427.1080123436052 lr: 0.00099999920000064 \n",
            "epoch: 90 , train loss: 389.5786409808787 validation loss: 427.1080123433348 lr: 0.00099999910000081 \n"
          ],
          "name": "stdout"
        }
      ]
    },
    {
      "cell_type": "code",
      "metadata": {
        "colab": {
          "base_uri": "https://localhost:8080/",
          "height": 295
        },
        "id": "w1lh9U1tbptP",
        "outputId": "c7c3740c-416c-41f1-f912-2861e0deccf0"
      },
      "source": [
        "plt.title(\"Train and validation loss with zero initialization\")\n",
        "plt.xlabel(\"epoch\")\n",
        "plt.ylabel(\"loss\")\n",
        "plt.plot(train_loss)\n",
        "plt.plot(validation_loss)\n",
        "plt.legend(['train', 'validation'])\n",
        "plt.show()"
      ],
      "execution_count": 269,
      "outputs": [
        {
          "output_type": "display_data",
          "data": {
            "image/png": "[encoded data removed]",
            "text/plain": [
              "<Figure size 432x288 with 1 Axes>"
            ]
          },
          "metadata": {
            "tags": [],
            "needs_background": "light"
          }
        }
      ]
    },
    {
      "cell_type": "markdown",
      "metadata": {
        "id": "z2UZ8W5Pwj8T"
      },
      "source": [
        "test our trained network on test data"
      ]
    },
    {
      "cell_type": "code",
      "metadata": {
        "colab": {
          "base_uri": "https://localhost:8080/"
        },
        "id": "h7Dm9a2dwRsH",
        "outputId": "817c8fc7-8b0e-4a5e-fa58-c02cee92fee2"
      },
      "source": [
        "# Forward pass on test data\n",
        "dense1.forward(X_test)\n",
        "activation1.forward(dense1.output)\n",
        "dense2.forward(activation1.output)\n",
        "activation2.forward(dense2.output)\n",
        "dense3.forward(activation2.output)\n",
        "activation3.forward(dense3.output)\n",
        "# Calculate the data loss\n",
        "y_pred = activation3.output\n",
        "#calculate RMSE\n",
        "rmse_zero_weight = np.sqrt(np.mean((y_pred- y_test)**2))\n",
        "print(\"root mean squared error for zewo weights = \", rmse_zero_weight)"
      ],
      "execution_count": 261,
      "outputs": [
        {
          "output_type": "stream",
          "text": [
            "root mean squared error for zewo weights =  20.06356278660612\n"
          ],
          "name": "stdout"
        }
      ]
    },
    {
      "cell_type": "markdown",
      "metadata": {
        "id": "MOmD1B5exesp"
      },
      "source": [
        "### initialize network with random weights"
      ]
    },
    {
      "cell_type": "code",
      "metadata": {
        "id": "977N23_VeW2b"
      },
      "source": [
        "# Create Dense layer with 128 input and 264 output values with tiny random weights\n",
        "dense1 = Dense( 128 , 264 )\n",
        "# Create Leaky ReLU activation\n",
        "activation1 = Activation_Leaky_ReLU()\n",
        "# Create second Dense layer with 264 input and 128 output values with tiny random weights\n",
        "dense2 = Dense( 264 , 128)\n",
        "# Create Leaky ReLU activation \n",
        "activation2 = Activation_Leaky_ReLU()\n",
        "# Create third Dense layer with 128 input and 1 output value with tiny random weights\n",
        "dense3 = Dense( 128 , 1)\n",
        "# Create Leaky ReLU activation\n",
        "activation3 = Activation_Leaky_ReLU()\n",
        "# Create l2 loss function\n",
        "loss_function = Loss_L2()\n",
        "# Create SGD optimizer with momentum\n",
        "optimizer = Optimizer_SGD( learning_rate = 0.001 , decay = 1e-8 , momentum=0.9)"
      ],
      "execution_count": 262,
      "outputs": []
    },
    {
      "cell_type": "code",
      "metadata": {
        "colab": {
          "base_uri": "https://localhost:8080/"
        },
        "id": "IcZTRxqo9TCC",
        "outputId": "a70aaa28-6aac-4389-d7d0-1671260b16cc"
      },
      "source": [
        "train_loss_nonzero, val_loss_nonzero = train(X_train, y_train, X_val, y_val, 100, 128)"
      ],
      "execution_count": 263,
      "outputs": [
        {
          "output_type": "stream",
          "text": [
            "epoch: 0 , train loss: 584.7891700716367 validation loss: 381.4874307381181 lr: 0.001 \n",
            "epoch: 10 , train loss: 338.5977333594043 validation loss: 361.9767619879371 lr: 0.00099999990000001 \n",
            "epoch: 20 , train loss: 336.32531719066816 validation loss: 360.61708740463575 lr: 0.00099999980000004 \n",
            "epoch: 30 , train loss: 337.11603709615173 validation loss: 363.34260598463123 lr: 0.0009999997000000901 \n",
            "epoch: 40 , train loss: 334.1218314898475 validation loss: 360.5526007339185 lr: 0.00099999960000016 \n",
            "epoch: 50 , train loss: 334.7090205780368 validation loss: 377.9486074499764 lr: 0.0009999995000002499 \n",
            "epoch: 60 , train loss: 339.06348388349045 validation loss: 362.76702161103935 lr: 0.0009999994000003602 \n",
            "epoch: 70 , train loss: 336.3006859281938 validation loss: 370.3402165113448 lr: 0.00099999930000049 \n",
            "epoch: 80 , train loss: 340.16046297544244 validation loss: 369.2259960402169 lr: 0.00099999920000064 \n",
            "epoch: 90 , train loss: 339.2489106597907 validation loss: 378.8035794000186 lr: 0.00099999910000081 \n"
          ],
          "name": "stdout"
        }
      ]
    },
    {
      "cell_type": "code",
      "metadata": {
        "colab": {
          "base_uri": "https://localhost:8080/",
          "height": 295
        },
        "id": "v4_4xVlw9WaW",
        "outputId": "155e87c9-762e-44b2-a838-34fb39f91cb3"
      },
      "source": [
        "plt.title(\"Train and calidation loss with random initialization\")\n",
        "plt.xlabel(\"epoch\")\n",
        "plt.ylabel(\"loss\")\n",
        "plt.plot(train_loss_nonzero)\n",
        "plt.plot(val_loss_nonzero)\n",
        "plt.legend(['train', 'validation'])\n",
        "plt.show()"
      ],
      "execution_count": 264,
      "outputs": [
        {
          "output_type": "display_data",
          "data": {
            "image/png": "[encoded data removed]",
            "text/plain": [
              "<Figure size 432x288 with 1 Axes>"
            ]
          },
          "metadata": {
            "tags": [],
            "needs_background": "light"
          }
        }
      ]
    },
    {
      "cell_type": "code",
      "metadata": {
        "colab": {
          "base_uri": "https://localhost:8080/"
        },
        "id": "MWfJsndXyqbc",
        "outputId": "8e921e63-85e1-484a-f7cb-82e6207317e4"
      },
      "source": [
        "dense1.forward(X_test)\n",
        "activation1.forward(dense1.output)\n",
        "dense2.forward(activation1.output)\n",
        "activation2.forward(dense2.output)\n",
        "dense3.forward(activation2.output)\n",
        "activation3.forward(dense3.output)\n",
        "# Calculate the data loss\n",
        "y_pred = activation3.output\n",
        "#calculate RMSE\n",
        "rmse_random_weight = np.sqrt(np.mean((y_pred- y_test)**2))\n",
        "print(\"root mean squared error for random weights = \", rmse_random_weight)"
      ],
      "execution_count": 271,
      "outputs": [
        {
          "output_type": "stream",
          "text": [
            "root mean squared error for random weights =  19.086081057926627\n"
          ],
          "name": "stdout"
        }
      ]
    },
    {
      "cell_type": "markdown",
      "metadata": {
        "id": "GEFZPknEy-_n"
      },
      "source": [
        "### difference between zerp and random initialization loss"
      ]
    },
    {
      "cell_type": "code",
      "metadata": {
        "id": "KXfN9ZHi9eqi",
        "colab": {
          "base_uri": "https://localhost:8080/",
          "height": 295
        },
        "outputId": "5ed6ff50-7ba9-4fb4-e0b2-71dbea199f3b"
      },
      "source": [
        "plt.title(\"zero initialization loss Vs random initialization loss\")\n",
        "plt.xlabel(\"epoch\")\n",
        "plt.ylabel(\"loss\")\n",
        "plt.plot(train_loss)\n",
        "plt.plot(train_loss_nonzero)\n",
        "plt.legend(['zero init', 'random init'])\n",
        "plt.show()"
      ],
      "execution_count": 266,
      "outputs": [
        {
          "output_type": "display_data",
          "data": {
            "image/png": "[encoded data removed]",
            "text/plain": [
              "<Figure size 432x288 with 1 Axes>"
            ]
          },
          "metadata": {
            "tags": [],
            "needs_background": "light"
          }
        }
      ]
    },
    {
      "cell_type": "markdown",
      "metadata": {
        "id": "EKx056tZ42ws"
      },
      "source": [
        "## part 2_A: difference between decaying and constant learning rate"
      ]
    },
    {
      "cell_type": "markdown",
      "metadata": {
        "id": "lmasjghZzZ54"
      },
      "source": [
        "### initialize network with constant learning rate"
      ]
    },
    {
      "cell_type": "code",
      "metadata": {
        "id": "vAXcJ5Kgm4ni"
      },
      "source": [
        "# Create Dense layer with 128 input feature and 264 output values with tiny random weights\n",
        "dense1 = Dense( 128 , 264 )\n",
        "# Create Leaky ReLU activation:\n",
        "activation1 = Activation_Leaky_ReLU()\n",
        "# Create second Dense layer with 264 input and 128 output values with tiny random weights\n",
        "dense2 = Dense( 264 , 128)\n",
        "# Create Leaky ReLU activation:\n",
        "activation2 = Activation_Leaky_ReLU()\n",
        "# Create third Dense layer with 128 input features and 1 output value with tiny random weights\n",
        "dense3 = Dense( 128 , 1)\n",
        "# Create Leaky ReLU activation:\n",
        "activation3 = Activation_Leaky_ReLU()\n",
        "# Create l2 loss function\n",
        "loss_function = Loss_L2()\n",
        "# Create SGD optimizer with momentum\n",
        "optimizer = Optimizer_SGD( learning_rate = 0.001 , decay = 0 , momentum=0.9)"
      ],
      "execution_count": 272,
      "outputs": []
    },
    {
      "cell_type": "code",
      "metadata": {
        "id": "8N5qO1KVm563",
        "colab": {
          "base_uri": "https://localhost:8080/"
        },
        "outputId": "ebfc6831-40eb-4f4b-a151-dc3ede9f18fc"
      },
      "source": [
        "train_loss_constant, val_loss_constant = train(X_train, y_train, X_val,y_val, 100, 128)"
      ],
      "execution_count": 273,
      "outputs": [
        {
          "output_type": "stream",
          "text": [
            "epoch: 0 , train loss: 584.4353043267608 validation loss: 381.98229589235353 lr: 0.001 \n",
            "epoch: 10 , train loss: 337.07282713343955 validation loss: 363.5783314761255 lr: 0.001 \n",
            "epoch: 20 , train loss: 335.1403356755571 validation loss: 363.3797784698005 lr: 0.001 \n",
            "epoch: 30 , train loss: 333.07021034854364 validation loss: 372.5242699131562 lr: 0.001 \n",
            "epoch: 40 , train loss: 335.8314383898102 validation loss: 365.4849265071924 lr: 0.001 \n",
            "epoch: 50 , train loss: 334.5831007550716 validation loss: 365.9507501879254 lr: 0.001 \n",
            "epoch: 60 , train loss: 338.54502458123306 validation loss: 376.89966492487844 lr: 0.001 \n",
            "epoch: 70 , train loss: 336.59368144924764 validation loss: 366.99138944868287 lr: 0.001 \n",
            "epoch: 80 , train loss: 339.6434026128707 validation loss: 379.48539744833687 lr: 0.001 \n",
            "epoch: 90 , train loss: 339.95253294962384 validation loss: 367.70272960980003 lr: 0.001 \n"
          ],
          "name": "stdout"
        }
      ]
    },
    {
      "cell_type": "code",
      "metadata": {
        "colab": {
          "base_uri": "https://localhost:8080/",
          "height": 295
        },
        "id": "w1d7l-0FeqvJ",
        "outputId": "5c3f0dac-32a3-4ab1-ad36-dc0b68db6eff"
      },
      "source": [
        "plt.title(\"Train and validation loss constant learning rat\")\n",
        "plt.xlabel(\"epoch\")\n",
        "plt.ylabel(\"loss\")\n",
        "plt.plot(train_loss_constant)\n",
        "plt.plot(val_loss_constant)\n",
        "plt.legend(['train', 'validation'])\n",
        "plt.show()"
      ],
      "execution_count": 274,
      "outputs": [
        {
          "output_type": "display_data",
          "data": {
            "image/png": "[encoded data removed]",
            "text/plain": [
              "<Figure size 432x288 with 1 Axes>"
            ]
          },
          "metadata": {
            "tags": [],
            "needs_background": "light"
          }
        }
      ]
    },
    {
      "cell_type": "markdown",
      "metadata": {
        "id": "Y0DXqBiQ0IC0"
      },
      "source": [
        "test our learned network on test data"
      ]
    },
    {
      "cell_type": "code",
      "metadata": {
        "colab": {
          "base_uri": "https://localhost:8080/"
        },
        "id": "GAp7FGaC0NAo",
        "outputId": "fc0b853f-1348-4af4-8461-2115b80f2541"
      },
      "source": [
        "dense1.forward(X_test)\n",
        "activation1.forward(dense1.output)\n",
        "dense2.forward(activation1.output)\n",
        "activation2.forward(dense2.output)\n",
        "dense3.forward(activation2.output)\n",
        "activation3.forward(dense3.output)\n",
        "# Calculate the data loss\n",
        "y_pred = activation3.output\n",
        "#calculate RMSE\n",
        "rmse_constant = np.sqrt(np.mean((y_pred- y_test)**2))\n",
        "print(\"root mean squared error for constant learning rate = \", rmse_constant)"
      ],
      "execution_count": 275,
      "outputs": [
        {
          "output_type": "stream",
          "text": [
            "root mean squared error for constant learning rate =  19.1114105285656\n"
          ],
          "name": "stdout"
        }
      ]
    },
    {
      "cell_type": "markdown",
      "metadata": {
        "id": "-5_8akC30gtu"
      },
      "source": [
        "### initialize network with decaying learning rate (step decaying)"
      ]
    },
    {
      "cell_type": "code",
      "metadata": {
        "id": "oZgE61Lx5R0U"
      },
      "source": [
        "# Create Dense layer with 128 input feature and 264 output values with tiny random weights\n",
        "dense1 = Dense( 128 , 264 )\n",
        "# Create Leaky ReLU activation:\n",
        "activation1 = Activation_Leaky_ReLU()\n",
        "# Create second Dense layer with 264 input and 128 output values with tiny random weights\n",
        "dense2 = Dense( 264 , 128)\n",
        "# Create Leaky ReLU activation:\n",
        "activation2 = Activation_Leaky_ReLU()\n",
        "# Create third Dense layer with 128 input and 1 output value\n",
        "dense3 = Dense( 128 , 1)\n",
        "# Create Leaky ReLU activation:\n",
        "activation3 = Activation_Leaky_ReLU()\n",
        "# Create l2 loss function\n",
        "loss_function = Loss_L2()\n",
        "# Create SGD optimizer with momentum\n",
        "optimizer = Optimizer_SGD( learning_rate = 0.001 , decay = 1e-8 , momentum=0.9)"
      ],
      "execution_count": 276,
      "outputs": []
    },
    {
      "cell_type": "code",
      "metadata": {
        "colab": {
          "base_uri": "https://localhost:8080/"
        },
        "id": "4BKzvLwi5sej",
        "outputId": "d24fe225-2fc0-4033-9f92-aefc8334406c"
      },
      "source": [
        "train_loss_decay, val_loss_decay = train(X_train, y_train, X_val, y_val, 100, 128)"
      ],
      "execution_count": 277,
      "outputs": [
        {
          "output_type": "stream",
          "text": [
            "epoch: 0 , train loss: 583.4464909749477 validation loss: 382.5882158419137 lr: 0.001 \n",
            "epoch: 10 , train loss: 336.09772620646623 validation loss: 366.54763459078936 lr: 0.00099999990000001 \n",
            "epoch: 20 , train loss: 336.34960459248026 validation loss: 368.2984461511141 lr: 0.00099999980000004 \n",
            "epoch: 30 , train loss: 336.35423872733037 validation loss: 367.73927007521416 lr: 0.0009999997000000901 \n",
            "epoch: 40 , train loss: 333.1034520812172 validation loss: 371.28353112773107 lr: 0.00099999960000016 \n",
            "epoch: 50 , train loss: 335.4167105630697 validation loss: 373.3441183750891 lr: 0.0009999995000002499 \n",
            "epoch: 60 , train loss: 340.38151696256296 validation loss: 372.50311935332763 lr: 0.0009999994000003602 \n",
            "epoch: 70 , train loss: 337.5808021492855 validation loss: 387.96114147197864 lr: 0.00099999930000049 \n",
            "epoch: 80 , train loss: 338.68796089327674 validation loss: 372.1568787578609 lr: 0.00099999920000064 \n",
            "epoch: 90 , train loss: 343.55364339747257 validation loss: 374.0705079286575 lr: 0.00099999910000081 \n"
          ],
          "name": "stdout"
        }
      ]
    },
    {
      "cell_type": "code",
      "metadata": {
        "colab": {
          "base_uri": "https://localhost:8080/",
          "height": 295
        },
        "id": "acmmI2gb57VN",
        "outputId": "b8a0ac93-555e-4dbe-d1ba-f4bd4bcbe641"
      },
      "source": [
        "plt.title(\"Train and calidation loss for decaying learning rate\")\n",
        "plt.xlabel(\"epoch\")\n",
        "plt.ylabel(\"loss\")\n",
        "plt.plot(train_loss_decay)\n",
        "plt.plot(val_loss_decay)\n",
        "plt.legend(['constant', 'decay'])\n",
        "plt.show()"
      ],
      "execution_count": 278,
      "outputs": [
        {
          "output_type": "display_data",
          "data": {
            "image/png": "[encoded data removed]",
            "text/plain": [
              "<Figure size 432x288 with 1 Axes>"
            ]
          },
          "metadata": {
            "tags": [],
            "needs_background": "light"
          }
        }
      ]
    },
    {
      "cell_type": "code",
      "metadata": {
        "colab": {
          "base_uri": "https://localhost:8080/"
        },
        "id": "eGD15lmJ1QPt",
        "outputId": "420c9e37-49d3-455b-ca80-cafc3ed067f1"
      },
      "source": [
        "dense1.forward(X_test)\n",
        "activation1.forward(dense1.output)\n",
        "dense2.forward(activation1.output)\n",
        "activation2.forward(dense2.output)\n",
        "dense3.forward(activation2.output)\n",
        "activation3.forward(dense3.output)\n",
        "# Calculate the data loss\n",
        "y_pred = activation3.output\n",
        "#calculate RMSE\n",
        "rmse_decay = np.sqrt(np.mean((y_pred- y_test)**2))\n",
        "print(\"root mean squared error for decaying learning rate = \", rmse_decay)"
      ],
      "execution_count": 279,
      "outputs": [
        {
          "output_type": "stream",
          "text": [
            "root mean squared error for decaying learning rate =  18.970112476902187\n"
          ],
          "name": "stdout"
        }
      ]
    },
    {
      "cell_type": "markdown",
      "metadata": {
        "id": "C33Rs6JB1MBi"
      },
      "source": [
        "### difference between constant and decaying learning rate"
      ]
    },
    {
      "cell_type": "code",
      "metadata": {
        "colab": {
          "base_uri": "https://localhost:8080/",
          "height": 295
        },
        "id": "wmbrZIYqfs9f",
        "outputId": "835d15bc-7eb3-4d97-e584-b43e0867f5cb"
      },
      "source": [
        "plt.title(\"decaying learning rate Vs constatnt learning rate\")\n",
        "plt.xlabel(\"epoch\")\n",
        "plt.ylabel(\"loss\")\n",
        "plt.plot(train_loss_constant)\n",
        "plt.plot(train_loss_decay)\n",
        "plt.legend(['constant', 'decay'])\n",
        "plt.show()"
      ],
      "execution_count": 80,
      "outputs": [
        {
          "output_type": "display_data",
          "data": {
            "image/png": "[encoded data removed]",
            "text/plain": [
              "<Figure size 432x288 with 1 Axes>"
            ]
          },
          "metadata": {
            "tags": [],
            "needs_background": "light"
          }
        }
      ]
    },
    {
      "cell_type": "markdown",
      "metadata": {
        "id": "qAZIvJCOf9vA"
      },
      "source": [
        "# Part 2 : calssifying race\n"
      ]
    },
    {
      "cell_type": "markdown",
      "metadata": {
        "id": "XqMlEri01z-f"
      },
      "source": [
        "### softmax activation"
      ]
    },
    {
      "cell_type": "code",
      "metadata": {
        "id": "9JgrZggR6WUE"
      },
      "source": [
        "# Softmax activation\n",
        "class Activation_Softmax :\n",
        "# Forward pass\n",
        "  def forward ( self , inputs ):\n",
        "    \"\"\"\n",
        "    first we get unnormalized probabilities\n",
        "    and then normalize them for each sample\n",
        "    \"\"\"\n",
        "    self.inputs = inputs\n",
        "    exp_values = np.exp(inputs - np.max(inputs, axis = 1 ,keepdims = True ))\n",
        "    probabilities = exp_values / np.sum(exp_values, axis = 1 , keepdims = True )\n",
        "    self.output = probabilities\n",
        "\n",
        "  # Backward pass\n",
        "  def backward ( self , dvalues ):\n",
        "    \"\"\"\n",
        "    1. Create uninitialized array\n",
        "    2. Enumerate outputs and gradients \n",
        "    for each output and gradient\n",
        "      Flatten output array  \n",
        "      Calculate Jacobian matrix of the output\n",
        "      Calculate sample-wise gradient and add it to the array of sample gradients\n",
        "    \"\"\"\n",
        "    self.dinputs = np.empty_like(dvalues)\n",
        "    for index, (output,dvalue) in enumerate ( zip (self.output, dvalues)):\n",
        "      output = output.reshape( - 1 , 1 )\n",
        "      j_matrix = np.diagflat(output) - np.dot(output, output.T)\n",
        "      self.dinputs[index] = np.dot(j_matrix, dvalue)"
      ],
      "execution_count": 280,
      "outputs": []
    },
    {
      "cell_type": "markdown",
      "metadata": {
        "id": "3CcUFp4X134G"
      },
      "source": [
        "### negative loglikelihood loss"
      ]
    },
    {
      "cell_type": "code",
      "metadata": {
        "id": "PFAcOTy5AsPx"
      },
      "source": [
        "class Loss_negative_log( Loss ):\n",
        "  # Forward pass\n",
        "  def forward ( self , y_pred , y_true ):\n",
        "    sample_len = len (y_pred)\n",
        "    # Clip data to prevent division by 0 error in log\n",
        "    y_pred_clipped = np.clip(y_pred, 1e-7 , 1 - 1e-7 )\n",
        "    #if we have 2 classes \n",
        "    if len (y_true.shape) == 1 :\n",
        "      correct_conf = y_pred_clipped[range (sample_len),y_true]\n",
        "    # if we have multi class mask values - only for one-hot encoded labels \n",
        "    elif len (y_true.shape) == 2 :\n",
        "      correct_conf = np.sum(y_pred_clipped * y_true,axis = 1)\n",
        "    # calculate negative log likelihood\n",
        "    negative_log_likelihoods = - np.log(correct_conf)\n",
        "    return negative_log_likelihoods\n",
        "\n",
        "    # Backward pass\n",
        "  def backward ( self , dvalues , y_true ):\n",
        "  # Number of samples\n",
        "    sample_len = len (dvalues)\n",
        "      # Number of labels in every sample\n",
        "      # We'll use the first sample to count them\n",
        "    labels = len (dvalues[ 0 ])\n",
        "    # If labels are sparse, turn them into one-hot vector\n",
        "    if len (y_true.shape) == 1 :\n",
        "      y_true = np.eye(labels)[y_true]\n",
        "    # Calculate gradient\n",
        "    self.dinputs = - y_true / dvalues\n",
        "    # Normalize gradient\n",
        "    self.dinputs = self.dinputs / sample_len"
      ],
      "execution_count": 281,
      "outputs": []
    },
    {
      "cell_type": "code",
      "metadata": {
        "colab": {
          "base_uri": "https://localhost:8080/"
        },
        "id": "THWAuFIyCqZ_",
        "outputId": "546275e8-213c-413a-bc72-9ec1aaab8544"
      },
      "source": [
        "set(df['race'])"
      ],
      "execution_count": 298,
      "outputs": [
        {
          "output_type": "execute_result",
          "data": {
            "text/plain": [
              "{0, 1, 2, 3, 4}"
            ]
          },
          "metadata": {
            "tags": []
          },
          "execution_count": 298
        }
      ]
    },
    {
      "cell_type": "markdown",
      "metadata": {
        "id": "H-mP8bxFgVPL"
      },
      "source": [
        "we have 5 classes of race and because of this we put 5 neurons in output layer"
      ]
    },
    {
      "cell_type": "markdown",
      "metadata": {
        "id": "oGou3zXFgjad"
      },
      "source": [
        "encode our classes with one hot encoding"
      ]
    },
    {
      "cell_type": "code",
      "metadata": {
        "id": "WjZumXbBEBgP"
      },
      "source": [
        "from sklearn.preprocessing import LabelBinarizer"
      ],
      "execution_count": 299,
      "outputs": []
    },
    {
      "cell_type": "code",
      "metadata": {
        "id": "7ngnvb19DTi7"
      },
      "source": [
        "y = LabelBinarizer().fit_transform(df.race)"
      ],
      "execution_count": 300,
      "outputs": []
    },
    {
      "cell_type": "markdown",
      "metadata": {
        "id": "yLSAwmAagxRt"
      },
      "source": [
        "train test split"
      ]
    },
    {
      "cell_type": "code",
      "metadata": {
        "id": "VPEDDAeXDSJt"
      },
      "source": [
        "from sklearn.model_selection import train_test_split\n",
        "X_train, X_test, y_train, y_test = train_test_split(\n",
        "    X, y, test_size=0.24, random_state=42)"
      ],
      "execution_count": 301,
      "outputs": []
    },
    {
      "cell_type": "code",
      "metadata": {
        "colab": {
          "base_uri": "https://localhost:8080/"
        },
        "id": "FfFTQH-GEQ8f",
        "outputId": "9edc6cd5-c9ab-430b-86bd-e71aa207b1ea"
      },
      "source": [
        "y_train.shape"
      ],
      "execution_count": 302,
      "outputs": [
        {
          "output_type": "execute_result",
          "data": {
            "text/plain": [
              "(18015, 5)"
            ]
          },
          "metadata": {
            "tags": []
          },
          "execution_count": 302
        }
      ]
    },
    {
      "cell_type": "markdown",
      "metadata": {
        "id": "FwI7AtVKg1JT"
      },
      "source": [
        "train validation split"
      ]
    },
    {
      "cell_type": "code",
      "metadata": {
        "id": "EQir96awDbGJ"
      },
      "source": [
        "X_train, X_val, y_train, y_val = train_test_split(\n",
        "    X_train, y_train, test_size=0.1, random_state=42)"
      ],
      "execution_count": 303,
      "outputs": []
    },
    {
      "cell_type": "markdown",
      "metadata": {
        "id": "hQv_lymm2DAj"
      },
      "source": [
        "validation function due to validation after each epoch in trining"
      ]
    },
    {
      "cell_type": "code",
      "metadata": {
        "id": "1U0Sv2vShJMU"
      },
      "source": [
        "def validation(X_train,y_train,batch):\n",
        "  validation_loss = []\n",
        "  acc =[]\n",
        "  batch_size = batch\n",
        "  data_size = X_train.shape[ 0 ]\n",
        "  steps = data_size // batch_size\n",
        "  if steps * batch_size < data_size:\n",
        "    steps += 1\n",
        "  for step in range (steps):\n",
        "    batch_X = X_train[step * batch_size:(step + 1 ) * batch_size]\n",
        "    batch_y = y_train[step * batch_size:(step + 1 ) * batch_size]\n",
        "    dense1.forward(batch_X)\n",
        "    activation1.forward(dense1.output)\n",
        "    dense2.forward(activation1.output)\n",
        "    activation2.forward(dense2.output)\n",
        "    dense3.forward(activation2.output)\n",
        "    activation3.forward(dense3.output)\n",
        "    # Calculate the data loss\n",
        "    loss = loss_function.calculate(activation3.output, batch_y)\n",
        "    validation_loss.append(loss)\n",
        "    predictions = np.argmax(activation3.output, axis = 1 )\n",
        "    if len (batch_y.shape) == 2 :\n",
        "      batch_y = np.argmax(batch_y, axis = 1 )\n",
        "    accuracy = np.mean(predictions == batch_y)\n",
        "    acc.append(accuracy)\n",
        "\n",
        "  return np.mean(validation_loss), np.mean(acc)\n",
        "    "
      ],
      "execution_count": 304,
      "outputs": []
    },
    {
      "cell_type": "markdown",
      "metadata": {
        "id": "jIKCW8UI2Lrl"
      },
      "source": [
        "train function for trainig our network based on our network initialization"
      ]
    },
    {
      "cell_type": "code",
      "metadata": {
        "id": "QmoKHClUEXqw"
      },
      "source": [
        "def train(X_train,y_train, X_val, y_val,epoch, batch):\n",
        "  train_loss = []\n",
        "  validation_loss = []\n",
        "  validation_acc =[]\n",
        "  accuracy_list = []\n",
        "  eps=[]\n",
        "  epochs = epoch\n",
        "  batch_size = batch\n",
        "  data_size = X_train.shape[ 0 ]\n",
        "  steps = data_size // batch_size\n",
        "  if steps * batch_size < data_size:\n",
        "    steps += 1\n",
        "  # Train in loop\n",
        "  for epoch in range ( epochs ):\n",
        "    epoch_loss = []\n",
        "    acc = []\n",
        "    for step in range (steps):\n",
        "      batch_X = X_train[step * batch_size:(step + 1 ) * batch_size]\n",
        "      batch_y = y_train[step * batch_size:(step + 1 ) * batch_size]\n",
        "      # Perform a forward pass of our training data through our neural net layers\n",
        "      dense1.forward(batch_X)\n",
        "      activation1.forward(dense1.output)\n",
        "      dense2.forward(activation1.output)\n",
        "      activation2.forward(dense2.output)\n",
        "      dense3.forward(activation2.output)\n",
        "      activation3.forward(dense3.output)\n",
        "      # Calculate the data loss\n",
        "      loss = loss_function.calculate(activation3.output, batch_y)\n",
        "      predictions = np.argmax(activation3.output, axis = 1 )\n",
        "      if len (batch_y.shape) == 2 :\n",
        "        batch_y = np.argmax(batch_y, axis = 1 )\n",
        "      accuracy = np.mean(predictions == batch_y)\n",
        "      acc.append(accuracy)\n",
        "      epoch_loss.append(loss)\n",
        "      #acc += np.sum((predictions == batch_y))\n",
        "      # Backward pass\n",
        "      loss_function.backward(activation3.output, batch_y)\n",
        "      activation3.backward(loss_function.dinputs)\n",
        "      dense3.backward(activation3.dinputs)\n",
        "      activation2.backward(dense3.dinputs)\n",
        "      dense2.backward(activation2.dinputs)\n",
        "      activation1.backward(dense2.dinputs)\n",
        "      dense1.backward(activation1.dinputs)\n",
        "      # Update weights and biases\n",
        "      optimizer.update(dense1)\n",
        "      optimizer.update(dense2)\n",
        "      optimizer.update(dense3)\n",
        "    e_loss = np.sum(epoch_loss)/steps\n",
        "    eps.append(epoch_loss)\n",
        "    e_acc= np.mean(acc)\n",
        "    accuracy_list.append(e_acc)\n",
        "    train_loss.append(e_loss)\n",
        "    val_loss, val_acc = validation(X_val,y_val, batch)\n",
        "    optimizer.decay_learning_rate()\n",
        "    optimizer.plus_iteration()\n",
        "    validation_loss.append(val_loss)\n",
        "    validation_acc.append(val_acc)\n",
        "    if not epoch % 10 :\n",
        "      print ( f'epoch: {epoch} , ' +\n",
        "      f'loss: {e_loss} '+\n",
        "      f'acc: {e_acc} '+\n",
        "      f'validation_loss: {val_loss} '+\n",
        "      f'validationacc: {val_acc} '+\n",
        "      f'lr: {optimizer.current_learning_rate} ' )\n",
        "\n",
        "  return train_loss, accuracy_list, validation_loss, validation_acc\n"
      ],
      "execution_count": 305,
      "outputs": []
    },
    {
      "cell_type": "markdown",
      "metadata": {
        "id": "HfukpDQH2agv"
      },
      "source": [
        "### initializing network for race classification"
      ]
    },
    {
      "cell_type": "code",
      "metadata": {
        "id": "0jTIgBaMCtWP"
      },
      "source": [
        "# Create Dense layer with 128 input and 264 output \n",
        "dense1 = Dense( 128 , 264 )\n",
        "# Create Leaky ReLU activation\n",
        "activation1 = Activation_Leaky_ReLU()\n",
        "# Create second Dense layer with 264 input and 128 output values\n",
        "dense2 = Dense( 264 , 128)\n",
        "# Create Leaky ReLU activation\n",
        "activation2 = Activation_Leaky_ReLU()\n",
        "# Create third Dense layer with 125 input and 5 output value\n",
        "dense3 = Dense( 128 , 5)\n",
        "# Create sofmax activation\n",
        "activation3 = Activation_Softmax()\n",
        "# Create negative log loss\n",
        "loss_function = Loss_negative_log()\n",
        "# Create SGD optimizer with momentum\n",
        "optimizer = Optimizer_SGD( learning_rate = 0.001 , decay = 1e-8 , momentum=0.9)"
      ],
      "execution_count": 306,
      "outputs": []
    },
    {
      "cell_type": "code",
      "metadata": {
        "colab": {
          "base_uri": "https://localhost:8080/"
        },
        "id": "EFyRm9T8FQQc",
        "outputId": "0e723f4a-5fb4-434d-e2f2-6d80a50f968c"
      },
      "source": [
        "train_loss, train_acc, val_loss, val_acc = train(X_train, y_train, X_val, y_val, 100, 128)"
      ],
      "execution_count": 307,
      "outputs": [
        {
          "output_type": "stream",
          "text": [
            "epoch: 0 , loss: 1.5764468565576872 acc: 0.42010768874478926 validation_loss: 1.5386963014389035 validationacc: 0.44 lr: 0.001 \n",
            "epoch: 10 , loss: 1.3018448741540711 acc: 0.4871924212598425 validation_loss: 1.2743864546532617 validationacc: 0.5122916666666667 lr: 0.00099999990000001 \n",
            "epoch: 20 , loss: 1.2696078970369693 acc: 0.5033095472440945 validation_loss: 1.2560723992788474 validationacc: 0.5175 lr: 0.00099999980000004 \n",
            "epoch: 30 , loss: 1.2500814870320158 acc: 0.5076786127836961 validation_loss: 1.235628816642406 validationacc: 0.5309375 lr: 0.0009999997000000901 \n",
            "epoch: 40 , loss: 1.2421065120985293 acc: 0.5117994441871236 validation_loss: 1.2298315136747477 validationacc: 0.5417708333333333 lr: 0.00099999960000016 \n",
            "epoch: 50 , loss: 1.2398193675273639 acc: 0.5124146016674387 validation_loss: 1.2308523521110886 validationacc: 0.5396875 lr: 0.0009999995000002499 \n",
            "epoch: 60 , loss: 1.238813981600936 acc: 0.5146291685965725 validation_loss: 1.2332258394965787 validationacc: 0.5386458333333334 lr: 0.0009999994000003602 \n",
            "epoch: 70 , loss: 1.2380181086735023 acc: 0.514690684344604 validation_loss: 1.2348086921056225 validationacc: 0.5376041666666667 lr: 0.00099999930000049 \n",
            "epoch: 80 , loss: 1.2373965725140894 acc: 0.5148752315886985 validation_loss: 1.2354485223680844 validationacc: 0.5355208333333333 lr: 0.00099999920000064 \n",
            "epoch: 90 , loss: 1.2367997131356834 acc: 0.514690684344604 validation_loss: 1.2358742721780398 validationacc: 0.5360416666666666 lr: 0.00099999910000081 \n"
          ],
          "name": "stdout"
        }
      ]
    },
    {
      "cell_type": "code",
      "metadata": {
        "colab": {
          "base_uri": "https://localhost:8080/",
          "height": 295
        },
        "id": "Vcx1WMgFMEBA",
        "outputId": "74f52307-238c-4fdb-9faf-a6879fb8c4e3"
      },
      "source": [
        "plt.title(\"Train and validation loss for race classification\")\n",
        "plt.ylabel(\"loss\")\n",
        "plt.xlabel(\"epoch\")\n",
        "plt.plot(train_loss)\n",
        "plt.plot(val_loss)\n",
        "plt.legend(['train', 'validation'])\n",
        "plt.show()"
      ],
      "execution_count": 308,
      "outputs": [
        {
          "output_type": "display_data",
          "data": {
            "image/png": "[encoded data removed]",
            "text/plain": [
              "<Figure size 432x288 with 1 Axes>"
            ]
          },
          "metadata": {
            "tags": [],
            "needs_background": "light"
          }
        }
      ]
    },
    {
      "cell_type": "code",
      "metadata": {
        "colab": {
          "base_uri": "https://localhost:8080/",
          "height": 295
        },
        "id": "QLPGAcYQP9Kd",
        "outputId": "ebb448f7-aadb-4650-e4a2-f2bcea10f20b"
      },
      "source": [
        "plt.title(\"Train and calidation accuracy for race classification\")\n",
        "plt.ylabel(\"acc\")\n",
        "plt.xlabel(\"epoch\")\n",
        "plt.plot(train_acc)\n",
        "plt.plot(val_acc)\n",
        "plt.legend(['train', 'validation'])\n",
        "plt.show()"
      ],
      "execution_count": 309,
      "outputs": [
        {
          "output_type": "display_data",
          "data": {
            "image/png": "[encoded data removed]",
            "text/plain": [
              "<Figure size 432x288 with 1 Axes>"
            ]
          },
          "metadata": {
            "tags": [],
            "needs_background": "light"
          }
        }
      ]
    },
    {
      "cell_type": "code",
      "metadata": {
        "colab": {
          "base_uri": "https://localhost:8080/"
        },
        "id": "pWGY7hC8QacN",
        "outputId": "9fabd7b4-602f-4ee7-ab28-c3ae55402766"
      },
      "source": [
        "dense1.forward(X_test)\n",
        "activation1.forward(dense1.output)\n",
        "dense2.forward(activation1.output)\n",
        "activation2.forward(dense2.output)\n",
        "dense3.forward(activation2.output)\n",
        "activation3.forward(dense3.output)\n",
        "# Calculate the data loss\n",
        "test_loss = loss_function.calculate(activation3.output, y_test)\n",
        "predictions = np.argmax(activation3.output, axis = 1 )\n",
        "if len (y_test.shape) == 2 :\n",
        "  y_test = np.argmax(y_test, axis = 1 )\n",
        "test_accuracy = np.mean(predictions == y_test)\n",
        "print(\"aacuracy of reca classification model on test data\", test_accuracy)"
      ],
      "execution_count": 117,
      "outputs": [
        {
          "output_type": "stream",
          "text": [
            "aacuracy of reca classification model on test data 0.5066783831282953\n"
          ],
          "name": "stdout"
        }
      ]
    },
    {
      "cell_type": "markdown",
      "metadata": {
        "id": "w03e5we_medH"
      },
      "source": [
        "# part 3: logistic Regression"
      ]
    },
    {
      "cell_type": "markdown",
      "metadata": {
        "id": "1AMw8O4H4Ksa"
      },
      "source": [
        "### sigmoid activation function"
      ]
    },
    {
      "cell_type": "code",
      "metadata": {
        "id": "zeKZxfmNm1_e"
      },
      "source": [
        "# Sigmoid activation\n",
        "class Activation_Sigmoid :\n",
        "  # Forward pass\n",
        "  def forward ( self , inputs ):\n",
        "    self.inputs = inputs\n",
        "    self.output = 1 / ( 1 + np.exp( - inputs))\n",
        "  # Backward pass\n",
        "  def backward ( self , dvalues ):\n",
        "    self.dinputs = dvalues * ( 1 - self.output) * self.output"
      ],
      "execution_count": 310,
      "outputs": []
    },
    {
      "cell_type": "markdown",
      "metadata": {
        "id": "SY64tyEb4Qh9"
      },
      "source": [
        "### logistic loss"
      ]
    },
    {
      "cell_type": "code",
      "metadata": {
        "id": "f8uYh0axm8BK"
      },
      "source": [
        "# Binary cross-entropy loss\n",
        "class Loss_logistic ( Loss ):\n",
        "# Forward pass\n",
        "  def forward ( self , y_pred , y_true ):\n",
        "    #  Clip data to prevent division by 0 error in log\n",
        "    y_pred_clipped = np.clip(y_pred, 1e-7 , 1 - 1e-7 )\n",
        "    # Calculate sample-wise loss\n",
        "    sample_losses = - (y_true * np.log(y_pred_clipped) + ( 1 - y_true) * np.log( 1 - y_pred_clipped))\n",
        "    sample_losses = np.mean(sample_losses, axis =- 1 )\n",
        "    # Return losses\n",
        "    return sample_losses\n",
        "\n",
        "  # Backward pass\n",
        "  def backward ( self , dvalues , y_true ):\n",
        "    # Number of samples\n",
        "    sample_len = len (dvalues)\n",
        "    output = len (dvalues[ 0 ])\n",
        "    # Clip data to prevent division by 0 error in log\n",
        "    clipped_dvalue = np.clip(dvalues, 1e-7 , 1 - 1e-7 )\n",
        "    # Calculate gradient\n",
        "    self.dinputs = - (y_true / clipped_dvalue - ( 1 - y_true) / ( 1 - clipped_dvalue)) / output\n",
        "    # Normalize gradient\n",
        "    self.dinputs = self.dinputs / sample_len"
      ],
      "execution_count": 311,
      "outputs": []
    },
    {
      "cell_type": "markdown",
      "metadata": {
        "id": "65dzVbqF5het"
      },
      "source": [
        "validation function for validation after each epoch of training"
      ]
    },
    {
      "cell_type": "code",
      "metadata": {
        "id": "CdV-A3ZLnerI"
      },
      "source": [
        "def validation(X_train,y_train,batch):\n",
        "  validation_loss = []\n",
        "  acc =[]\n",
        "  batch_size = batch\n",
        "  data_size = X_train.shape[ 0 ]\n",
        "  steps = data_size // batch_size\n",
        "  if steps * batch_size < data_size:\n",
        "    steps += 1\n",
        "  for step in range (steps):\n",
        "    batch_X = X_train[step * batch_size:(step + 1 ) * batch_size]\n",
        "    batch_y = y_train[step * batch_size:(step + 1 ) * batch_size]\n",
        "    dense1.forward(batch_X)\n",
        "    activation1.forward(dense1.output)\n",
        "    dense2.forward(activation1.output)\n",
        "    activation2.forward(dense2.output)\n",
        "    dense3.forward(activation2.output)\n",
        "    activation3.forward(dense3.output)\n",
        "    # Calculate the data loss\n",
        "    loss = loss_function.calculate(activation3.output, batch_y)\n",
        "    validation_loss.append(loss)\n",
        "    predictions = (activation3.output> 0.5 ) * 1\n",
        "    accuracy = np.mean(predictions == batch_y)\n",
        "    acc.append(accuracy)\n",
        "\n",
        "  return np.mean(validation_loss), np.mean(acc)\n",
        "    "
      ],
      "execution_count": 312,
      "outputs": []
    },
    {
      "cell_type": "markdown",
      "metadata": {
        "id": "Kox7N-FM5srC"
      },
      "source": [
        "train function for training our model in given epochs based on initilized network"
      ]
    },
    {
      "cell_type": "code",
      "metadata": {
        "id": "Mlr26LrboELz"
      },
      "source": [
        "def train(X_train,y_train, X_val, y_val,epoch, batch):\n",
        "  train_loss = []\n",
        "  validation_loss = []\n",
        "  validation_acc =[]\n",
        "  accuracy_list = []\n",
        "  eps=[]\n",
        "  epochs = epoch\n",
        "  batch_size = batch\n",
        "  data_size = X_train.shape[ 0 ]\n",
        "  steps = data_size // batch_size\n",
        "  if steps * batch_size < data_size:\n",
        "    steps += 1\n",
        "  # Train in loop\n",
        "  for epoch in range ( epochs ):\n",
        "    epoch_loss = []\n",
        "    acc = []\n",
        "    for step in range (steps):\n",
        "      batch_X = X_train[step * batch_size:(step + 1 ) * batch_size]\n",
        "      batch_y = y_train[step * batch_size:(step + 1 ) * batch_size]\n",
        "      # Perform a forward pass of our training data through our neural net layers\n",
        "      dense1.forward(batch_X)\n",
        "      activation1.forward(dense1.output)\n",
        "      dense2.forward(activation1.output)\n",
        "      activation2.forward(dense2.output)\n",
        "      dense3.forward(activation2.output)\n",
        "      activation3.forward(dense3.output)\n",
        "      # Calculate the data loss\n",
        "      loss = loss_function.calculate(activation3.output, batch_y)\n",
        "      predictions = (activation3.output> 0.5 ) * 1\n",
        "      accuracy = np.mean(predictions == batch_y)\n",
        "      acc.append(accuracy)\n",
        "      epoch_loss.append(loss)\n",
        "      #acc += np.sum((predictions == batch_y))\n",
        "      # Backward pass\n",
        "      loss_function.backward(activation3.output, batch_y)\n",
        "      activation3.backward(loss_function.dinputs)\n",
        "      dense3.backward(activation3.dinputs)\n",
        "      activation2.backward(dense3.dinputs)\n",
        "      dense2.backward(activation2.dinputs)\n",
        "      activation1.backward(dense2.dinputs)\n",
        "      dense1.backward(activation1.dinputs)\n",
        "      # Update weights and biases\n",
        "      optimizer.update(dense1)\n",
        "      optimizer.update(dense2)\n",
        "      optimizer.update(dense3)\n",
        "    e_loss = np.sum(epoch_loss)/steps\n",
        "    eps.append(epoch_loss)\n",
        "    e_acc= np.mean(acc)\n",
        "    accuracy_list.append(e_acc)\n",
        "    train_loss.append(e_loss)\n",
        "    val_loss, val_acc = validation(X_val,y_val, batch)\n",
        "    optimizer.decay_learning_rate()\n",
        "    optimizer.plus_iteration()\n",
        "    validation_loss.append(val_loss)\n",
        "    validation_acc.append(val_acc)\n",
        "    if not epoch % 10 :\n",
        "      print ( f'epoch: {epoch} , ' +\n",
        "      f'loss: {e_loss} '+\n",
        "      f'acc: {e_acc} '+\n",
        "      f'validation_loss: {val_loss} '+\n",
        "      f'validationacc: {val_acc} '+\n",
        "      f'lr: {optimizer.current_learning_rate} ' )\n",
        "\n",
        "  return train_loss, accuracy_list, validation_loss, validation_acc\n"
      ],
      "execution_count": 314,
      "outputs": []
    },
    {
      "cell_type": "markdown",
      "metadata": {
        "id": "Gwnc1dLJ56Oo"
      },
      "source": [
        "this time y or our labes is gender column of our data frame"
      ]
    },
    {
      "cell_type": "code",
      "metadata": {
        "id": "M3Kv0oLuoIYs"
      },
      "source": [
        "y = df.gender.values.reshape(-1,1)"
      ],
      "execution_count": 315,
      "outputs": []
    },
    {
      "cell_type": "markdown",
      "metadata": {
        "id": "i3hw3ZuN6FzZ"
      },
      "source": [
        "train test split"
      ]
    },
    {
      "cell_type": "code",
      "metadata": {
        "id": "JzX-1BKioRTG"
      },
      "source": [
        "X_train, X_test, y_train, y_test = train_test_split(\n",
        "    X, y, test_size=0.24, random_state=42)"
      ],
      "execution_count": 316,
      "outputs": []
    },
    {
      "cell_type": "code",
      "metadata": {
        "colab": {
          "base_uri": "https://localhost:8080/"
        },
        "id": "mjh9oDDpojdS",
        "outputId": "29d472bc-3810-4b36-bc72-872a2bb21b53"
      },
      "source": [
        "y_train"
      ],
      "execution_count": 317,
      "outputs": [
        {
          "output_type": "execute_result",
          "data": {
            "text/plain": [
              "array([[0],\n",
              "       [1],\n",
              "       [1],\n",
              "       ...,\n",
              "       [0],\n",
              "       [0],\n",
              "       [0]])"
            ]
          },
          "metadata": {
            "tags": []
          },
          "execution_count": 317
        }
      ]
    },
    {
      "cell_type": "markdown",
      "metadata": {
        "id": "veuDLWO56MC0"
      },
      "source": [
        "train validation split"
      ]
    },
    {
      "cell_type": "code",
      "metadata": {
        "id": "AHh0pSnDomVc"
      },
      "source": [
        "X_train, X_val, y_train, y_val = train_test_split(\n",
        "    X_train, y_train, test_size=0.1, random_state=42)"
      ],
      "execution_count": 318,
      "outputs": []
    },
    {
      "cell_type": "markdown",
      "metadata": {
        "id": "G7nzqov46914"
      },
      "source": [
        "### initialize our network for logistic regression (gender classification)"
      ]
    },
    {
      "cell_type": "code",
      "metadata": {
        "id": "x5E83atooqiA"
      },
      "source": [
        "# Create Dense layer with 128 input feature and 264 output values\n",
        "dense1 = Dense( 128 , 264 )\n",
        "# Create Leaky ReLU activation:\n",
        "activation1 = Activation_Leaky_ReLU()\n",
        "# Create second Dense layer with 128 input and 128 output values\n",
        "dense2 = Dense( 264 , 128)\n",
        "# Create Leaky ReLU activation:\n",
        "activation2 = Activation_Leaky_ReLU()\n",
        "# Create third Dense layer with 128 input and 1 output value\n",
        "dense3 = Dense( 128 , 1)\n",
        "# Create sigmoid activation\n",
        "activation3 = Activation_Sigmoid()\n",
        "# Create logistic loss function\n",
        "loss_function = Loss_logistic()\n",
        "# Create SGD optimizer with momentum\n",
        "optimizer = Optimizer_SGD( learning_rate = 0.001 , decay = 1e-8 , momentum=0.9)"
      ],
      "execution_count": 321,
      "outputs": []
    },
    {
      "cell_type": "code",
      "metadata": {
        "colab": {
          "base_uri": "https://localhost:8080/"
        },
        "id": "8U_h2wA7o3rV",
        "outputId": "836b369f-07d1-4844-be29-b8072b70081b"
      },
      "source": [
        "train_loss, train_acc, val_loss, val_acc = train(X_train, y_train, X_val, y_val, 100, 128)"
      ],
      "execution_count": 322,
      "outputs": [
        {
          "output_type": "stream",
          "text": [
            "epoch: 0 , loss: 0.6928794663925737 acc: 0.5245925486336266 validation_loss: 0.6933542254955547 validationacc: 0.494375 lr: 0.001 \n",
            "epoch: 10 , loss: 0.5965585854393032 acc: 0.6931167496526169 validation_loss: 0.597083092626269 validationacc: 0.6882291666666667 lr: 0.00099999990000001 \n",
            "epoch: 20 , loss: 0.5937630478828986 acc: 0.6903485409911996 validation_loss: 0.5981272563317854 validationacc: 0.6892708333333334 lr: 0.00099999980000004 \n",
            "epoch: 30 , loss: 0.592798680934181 acc: 0.6900720819823992 validation_loss: 0.5982458463536382 validationacc: 0.6908333333333334 lr: 0.0009999997000000901 \n",
            "epoch: 40 , loss: 0.5923038483120546 acc: 0.6903796607225567 validation_loss: 0.5982356146668121 validationacc: 0.6908333333333334 lr: 0.00099999960000016 \n",
            "epoch: 50 , loss: 0.5920518159457204 acc: 0.6909948182028717 validation_loss: 0.5981539502564543 validationacc: 0.6892708333333334 lr: 0.0009999995000002499 \n",
            "epoch: 60 , loss: 0.5918822255257657 acc: 0.6903796607225567 validation_loss: 0.5980297523599876 validationacc: 0.6892708333333334 lr: 0.0009999994000003602 \n",
            "epoch: 70 , loss: 0.5917312501313641 acc: 0.6903181449745253 validation_loss: 0.5978956472527837 validationacc: 0.6903125 lr: 0.00099999930000049 \n",
            "epoch: 80 , loss: 0.591607313237952 acc: 0.6907487552107457 validation_loss: 0.5977734045252324 validationacc: 0.6908333333333334 lr: 0.00099999920000064 \n",
            "epoch: 90 , loss: 0.5914947118520594 acc: 0.6909948182028717 validation_loss: 0.5976788779144432 validationacc: 0.6908333333333334 lr: 0.00099999910000081 \n"
          ],
          "name": "stdout"
        }
      ]
    },
    {
      "cell_type": "code",
      "metadata": {
        "colab": {
          "base_uri": "https://localhost:8080/",
          "height": 295
        },
        "id": "YIcuuC70pHQM",
        "outputId": "d90c1908-e13d-4788-d4eb-2849099aad39"
      },
      "source": [
        "plt.title(\"Train and validation loss for gender classification\")\n",
        "plt.ylabel(\"loss\")\n",
        "plt.xlabel(\"epoch\")\n",
        "plt.plot(train_loss)\n",
        "plt.plot(val_loss)\n",
        "plt.legend(['train', 'validation'])\n",
        "plt.show()"
      ],
      "execution_count": 323,
      "outputs": [
        {
          "output_type": "display_data",
          "data": {
            "image/png": "[encoded data removed]",
            "text/plain": [
              "<Figure size 432x288 with 1 Axes>"
            ]
          },
          "metadata": {
            "tags": [],
            "needs_background": "light"
          }
        }
      ]
    },
    {
      "cell_type": "code",
      "metadata": {
        "colab": {
          "base_uri": "https://localhost:8080/",
          "height": 295
        },
        "id": "yBFhF4vVpqME",
        "outputId": "4d67950d-21fe-4b14-fc95-a7d32ba9aa84"
      },
      "source": [
        "plt.title(\"Train and calidation accuracy for gender classification\")\n",
        "plt.ylabel(\"acc\")\n",
        "plt.xlabel(\"epoch\")\n",
        "plt.plot(train_acc)\n",
        "plt.plot(val_acc)\n",
        "plt.legend(['train', 'validation'])\n",
        "plt.show()"
      ],
      "execution_count": 324,
      "outputs": [
        {
          "output_type": "display_data",
          "data": {
            "image/png": "[encoded data removed]",
            "text/plain": [
              "<Figure size 432x288 with 1 Axes>"
            ]
          },
          "metadata": {
            "tags": [],
            "needs_background": "light"
          }
        }
      ]
    },
    {
      "cell_type": "code",
      "metadata": {
        "colab": {
          "base_uri": "https://localhost:8080/"
        },
        "id": "u6ydam8HpvQa",
        "outputId": "aad91f55-1062-4e59-cc0b-823f285397fd"
      },
      "source": [
        "dense1.forward(X_test)\n",
        "activation1.forward(dense1.output)\n",
        "dense2.forward(activation1.output)\n",
        "activation2.forward(dense2.output)\n",
        "dense3.forward(activation2.output)\n",
        "activation3.forward(dense3.output)\n",
        "# Calculate the data loss\n",
        "test_loss = loss_function.calculate(activation3.output, y_test)\n",
        "predictions = (activation3.output> 0.5 ) * 1\n",
        "test_accuracy = np.mean(predictions == y_test)\n",
        "print(\"aacuracy of gender classification model on test data\",test_accuracy)"
      ],
      "execution_count": 327,
      "outputs": [
        {
          "output_type": "stream",
          "text": [
            "aacuracy of gender classification model on test data 0.6808435852372583\n"
          ],
          "name": "stdout"
        }
      ]
    },
    {
      "cell_type": "code",
      "metadata": {
        "id": "EG6mJjCyqEct"
      },
      "source": [
        ""
      ],
      "execution_count": null,
      "outputs": []
    }
  ]
}